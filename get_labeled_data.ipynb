{
 "cells": [
  {
   "cell_type": "code",
   "execution_count": 1,
   "metadata": {},
   "outputs": [],
   "source": [
    "# -*- coding: utf-8 -*-\n",
    "import numpy as np\n",
    "import pandas as pd\n",
    "import json\n",
    "import csv"
   ]
  },
  {
   "cell_type": "code",
   "execution_count": 2,
   "metadata": {},
   "outputs": [],
   "source": [
    "news2016 = pd.read_csv('/Users/cheriehe/Desktop/Thesis/data/news2016_valid.csv')"
   ]
  },
  {
   "cell_type": "code",
   "execution_count": 3,
   "metadata": {},
   "outputs": [],
   "source": [
    "train = pd.read_csv('/Users/cheriehe/Desktop/Thesis/data/news2016_train.csv')"
   ]
  },
  {
   "cell_type": "code",
   "execution_count": 4,
   "metadata": {},
   "outputs": [
    {
     "data": {
      "text/html": [
       "<div>\n",
       "<style scoped>\n",
       "    .dataframe tbody tr th:only-of-type {\n",
       "        vertical-align: middle;\n",
       "    }\n",
       "\n",
       "    .dataframe tbody tr th {\n",
       "        vertical-align: top;\n",
       "    }\n",
       "\n",
       "    .dataframe thead th {\n",
       "        text-align: right;\n",
       "    }\n",
       "</style>\n",
       "<table border=\"1\" class=\"dataframe\">\n",
       "  <thead>\n",
       "    <tr style=\"text-align: right;\">\n",
       "      <th></th>\n",
       "      <th>keywords</th>\n",
       "      <th>desc</th>\n",
       "      <th>title</th>\n",
       "      <th>source</th>\n",
       "      <th>time</th>\n",
       "      <th>content</th>\n",
       "    </tr>\n",
       "  </thead>\n",
       "  <tbody>\n",
       "    <tr>\n",
       "      <th>0</th>\n",
       "      <td>英国石油公司发现巨型油田 股价飙升3倍！</td>\n",
       "      <td>英国石油天然气投资公司(UKOG)9日说，英格兰南部地底探测到规模巨大的油田，石油储量或许高...</td>\n",
       "      <td>英国石油公司发现巨型油田 股价飙升3倍！</td>\n",
       "      <td>移动中金在线</td>\n",
       "      <td>04-10 15:15</td>\n",
       "      <td>英国石油天然气投资公司(UKOG)9日说，英格兰南部地底探测到规模巨大的油田，石油储量或许高...</td>\n",
       "    </tr>\n",
       "    <tr>\n",
       "      <th>1</th>\n",
       "      <td>沪深300指数期货开户</td>\n",
       "      <td>沪深300指数期货开户--金殿环球（http://www.jindvip.com/）开户可以...</td>\n",
       "      <td>沪深300指数期货开户</td>\n",
       "      <td>三信财富汇</td>\n",
       "      <td>10-25 11:30</td>\n",
       "      <td>沪深300指数期货开户--金殿环球（http://www.jindvip.com/）开户可以...</td>\n",
       "    </tr>\n",
       "    <tr>\n",
       "      <th>2</th>\n",
       "      <td>加分，少数民族</td>\n",
       "      <td>取消部分全国性加分项目取消自2015年1月1日起，取消以下全国性高考加分项目，此后获得相关奖...</td>\n",
       "      <td>吉林省：今年高考加分项目大幅减少</td>\n",
       "      <td>新文化报</td>\n",
       "      <td>03-25 02:11</td>\n",
       "      <td>取消 部分全国性加分项目取消自2015年1月1日起，取消以下全国性高考加分项目，此后获得相关...</td>\n",
       "    </tr>\n",
       "    <tr>\n",
       "      <th>3</th>\n",
       "      <td>搜狐汽车，东风雪铁龙，亿万豪礼惠</td>\n",
       "      <td>宁夏正通东风雪铁龙现接到总部邀请，特举办：“春雷行动，龙抬头开年盛宴——东风雪铁龙百城千店亿...</td>\n",
       "      <td>春雷行动:东风雪铁龙百城千店亿万豪礼惠</td>\n",
       "      <td>主流媒体-汽车</td>\n",
       "      <td>03-19 14:40</td>\n",
       "      <td>宁夏正通东风雪铁龙现接到总部邀请，特举办：“春雷行动，龙抬头开年盛宴——东风雪铁龙百城千店...</td>\n",
       "    </tr>\n",
       "    <tr>\n",
       "      <th>4</th>\n",
       "      <td>如何选择儿童摄影机构给宝宝拍照?</td>\n",
       "      <td>给宝宝留下成长纪念是每位妈妈都特别期待的事情，选择专业的儿童摄影机构也是非常重要的一步，每年...</td>\n",
       "      <td>如何选择儿童摄影机构给宝宝拍照?</td>\n",
       "      <td>爱儿美儿童摄影</td>\n",
       "      <td>10-28 16:25</td>\n",
       "      <td>给宝宝留下成长纪念是每位妈妈都特别期待的事情，选择专业的儿童摄影机构也是非常重要的一步，每年...</td>\n",
       "    </tr>\n",
       "  </tbody>\n",
       "</table>\n",
       "</div>"
      ],
      "text/plain": [
       "               keywords                                               desc  \\\n",
       "0  英国石油公司发现巨型油田 股价飙升3倍！  英国石油天然气投资公司(UKOG)9日说，英格兰南部地底探测到规模巨大的油田，石油储量或许高...   \n",
       "1           沪深300指数期货开户  沪深300指数期货开户--金殿环球（http://www.jindvip.com/）开户可以...   \n",
       "2               加分，少数民族  取消部分全国性加分项目取消自2015年1月1日起，取消以下全国性高考加分项目，此后获得相关奖...   \n",
       "3      搜狐汽车，东风雪铁龙，亿万豪礼惠  宁夏正通东风雪铁龙现接到总部邀请，特举办：“春雷行动，龙抬头开年盛宴——东风雪铁龙百城千店亿...   \n",
       "4      如何选择儿童摄影机构给宝宝拍照?  给宝宝留下成长纪念是每位妈妈都特别期待的事情，选择专业的儿童摄影机构也是非常重要的一步，每年...   \n",
       "\n",
       "                  title   source         time  \\\n",
       "0  英国石油公司发现巨型油田 股价飙升3倍！   移动中金在线  04-10 15:15   \n",
       "1           沪深300指数期货开户    三信财富汇  10-25 11:30   \n",
       "2      吉林省：今年高考加分项目大幅减少     新文化报  03-25 02:11   \n",
       "3   春雷行动:东风雪铁龙百城千店亿万豪礼惠  主流媒体-汽车  03-19 14:40   \n",
       "4      如何选择儿童摄影机构给宝宝拍照?  爱儿美儿童摄影  10-28 16:25   \n",
       "\n",
       "                                             content  \n",
       "0  英国石油天然气投资公司(UKOG)9日说，英格兰南部地底探测到规模巨大的油田，石油储量或许高...  \n",
       "1  沪深300指数期货开户--金殿环球（http://www.jindvip.com/）开户可以...  \n",
       "2  取消 部分全国性加分项目取消自2015年1月1日起，取消以下全国性高考加分项目，此后获得相关...  \n",
       "3   宁夏正通东风雪铁龙现接到总部邀请，特举办：“春雷行动，龙抬头开年盛宴——东风雪铁龙百城千店...  \n",
       "4  给宝宝留下成长纪念是每位妈妈都特别期待的事情，选择专业的儿童摄影机构也是非常重要的一步，每年...  "
      ]
     },
     "execution_count": 4,
     "metadata": {},
     "output_type": "execute_result"
    }
   ],
   "source": [
    "train.head()"
   ]
  },
  {
   "cell_type": "code",
   "execution_count": 5,
   "metadata": {},
   "outputs": [
    {
     "data": {
      "text/plain": [
       "keywords    False\n",
       "desc         True\n",
       "title        True\n",
       "source      False\n",
       "time        False\n",
       "content      True\n",
       "dtype: bool"
      ]
     },
     "execution_count": 5,
     "metadata": {},
     "output_type": "execute_result"
    }
   ],
   "source": [
    "train.isnull().any()"
   ]
  },
  {
   "cell_type": "code",
   "execution_count": 6,
   "metadata": {},
   "outputs": [],
   "source": [
    "# train = \n",
    "train = train.loc[train['content'].isnull() == False]"
   ]
  },
  {
   "cell_type": "code",
   "execution_count": 7,
   "metadata": {},
   "outputs": [
    {
     "data": {
      "text/plain": [
       "keywords    False\n",
       "desc         True\n",
       "title        True\n",
       "source      False\n",
       "time        False\n",
       "content     False\n",
       "dtype: bool"
      ]
     },
     "execution_count": 7,
     "metadata": {},
     "output_type": "execute_result"
    }
   ],
   "source": [
    "train.isnull().any()"
   ]
  },
  {
   "cell_type": "code",
   "execution_count": 8,
   "metadata": {},
   "outputs": [],
   "source": [
    "train = train[['content']]"
   ]
  },
  {
   "cell_type": "code",
   "execution_count": 9,
   "metadata": {},
   "outputs": [
    {
     "data": {
      "text/html": [
       "<div>\n",
       "<style scoped>\n",
       "    .dataframe tbody tr th:only-of-type {\n",
       "        vertical-align: middle;\n",
       "    }\n",
       "\n",
       "    .dataframe tbody tr th {\n",
       "        vertical-align: top;\n",
       "    }\n",
       "\n",
       "    .dataframe thead th {\n",
       "        text-align: right;\n",
       "    }\n",
       "</style>\n",
       "<table border=\"1\" class=\"dataframe\">\n",
       "  <thead>\n",
       "    <tr style=\"text-align: right;\">\n",
       "      <th></th>\n",
       "      <th>content</th>\n",
       "    </tr>\n",
       "  </thead>\n",
       "  <tbody>\n",
       "    <tr>\n",
       "      <th>0</th>\n",
       "      <td>英国石油天然气投资公司(UKOG)9日说，英格兰南部地底探测到规模巨大的油田，石油储量或许高...</td>\n",
       "    </tr>\n",
       "    <tr>\n",
       "      <th>1</th>\n",
       "      <td>沪深300指数期货开户--金殿环球（http://www.jindvip.com/）开户可以...</td>\n",
       "    </tr>\n",
       "    <tr>\n",
       "      <th>2</th>\n",
       "      <td>取消 部分全国性加分项目取消自2015年1月1日起，取消以下全国性高考加分项目，此后获得相关...</td>\n",
       "    </tr>\n",
       "    <tr>\n",
       "      <th>3</th>\n",
       "      <td>宁夏正通东风雪铁龙现接到总部邀请，特举办：“春雷行动，龙抬头开年盛宴——东风雪铁龙百城千店...</td>\n",
       "    </tr>\n",
       "    <tr>\n",
       "      <th>4</th>\n",
       "      <td>给宝宝留下成长纪念是每位妈妈都特别期待的事情，选择专业的儿童摄影机构也是非常重要的一步，每年...</td>\n",
       "    </tr>\n",
       "  </tbody>\n",
       "</table>\n",
       "</div>"
      ],
      "text/plain": [
       "                                             content\n",
       "0  英国石油天然气投资公司(UKOG)9日说，英格兰南部地底探测到规模巨大的油田，石油储量或许高...\n",
       "1  沪深300指数期货开户--金殿环球（http://www.jindvip.com/）开户可以...\n",
       "2  取消 部分全国性加分项目取消自2015年1月1日起，取消以下全国性高考加分项目，此后获得相关...\n",
       "3   宁夏正通东风雪铁龙现接到总部邀请，特举办：“春雷行动，龙抬头开年盛宴——东风雪铁龙百城千店...\n",
       "4  给宝宝留下成长纪念是每位妈妈都特别期待的事情，选择专业的儿童摄影机构也是非常重要的一步，每年..."
      ]
     },
     "execution_count": 9,
     "metadata": {},
     "output_type": "execute_result"
    }
   ],
   "source": [
    "train.head()"
   ]
  },
  {
   "cell_type": "code",
   "execution_count": 10,
   "metadata": {},
   "outputs": [
    {
     "data": {
      "text/plain": [
       "content    2240809\n",
       "dtype: int64"
      ]
     },
     "execution_count": 10,
     "metadata": {},
     "output_type": "execute_result"
    }
   ],
   "source": [
    "train.count()"
   ]
  },
  {
   "cell_type": "code",
   "execution_count": 11,
   "metadata": {
    "scrolled": true
   },
   "outputs": [
    {
     "data": {
      "text/html": [
       "<div>\n",
       "<style scoped>\n",
       "    .dataframe tbody tr th:only-of-type {\n",
       "        vertical-align: middle;\n",
       "    }\n",
       "\n",
       "    .dataframe tbody tr th {\n",
       "        vertical-align: top;\n",
       "    }\n",
       "\n",
       "    .dataframe thead th {\n",
       "        text-align: right;\n",
       "    }\n",
       "</style>\n",
       "<table border=\"1\" class=\"dataframe\">\n",
       "  <thead>\n",
       "    <tr style=\"text-align: right;\">\n",
       "      <th></th>\n",
       "      <th>keywords</th>\n",
       "      <th>desc</th>\n",
       "      <th>title</th>\n",
       "      <th>source</th>\n",
       "      <th>time</th>\n",
       "      <th>content</th>\n",
       "    </tr>\n",
       "  </thead>\n",
       "  <tbody>\n",
       "    <tr>\n",
       "      <th>0</th>\n",
       "      <td>借鉴：这篇最受欢迎校训，没有一个字讲学习</td>\n",
       "      <td>“我知道，我不是因为偶然才来到这个世界，我是为了践行一个平凡、美丽、无私的梦想而来的；我是为...</td>\n",
       "      <td>借鉴：这篇最受欢迎校训，没有一个字讲学习</td>\n",
       "      <td>龙乡教育</td>\n",
       "      <td>10-14 21:55</td>\n",
       "      <td>“我知道，我不是因为偶然才来到这个世界，我是为了践行一个平凡、美丽、无私的梦想而来的；我是为...</td>\n",
       "    </tr>\n",
       "    <tr>\n",
       "      <th>1</th>\n",
       "      <td>市民淘宝购物一年四度被忽悠 买货容易退货难</td>\n",
       "      <td>张女士提供豆皮有虫尸的证据照片。受访者供图淘宝上购物，一年被忽悠四次。这样的事情就被市民张女...</td>\n",
       "      <td>市民淘宝购物一年四度被忽悠 买货容易退货难</td>\n",
       "      <td>主流媒体-媒体平台入驻自媒体</td>\n",
       "      <td>03-24 14:13</td>\n",
       "      <td>张女士提供豆皮有虫尸的证据照片。受访者供图淘宝上购物，一年被忽悠四次。这样的事情就被市民张...</td>\n",
       "    </tr>\n",
       "    <tr>\n",
       "      <th>2</th>\n",
       "      <td>[统计]机械.电器类公司市场表现(20150407)</td>\n",
       "      <td>@名称代码收盘价日涨跌周涨跌月涨跌季涨跌深华新0000100.0000.00%0.00%0....</td>\n",
       "      <td>[统计]机械.电器类公司市场表现(20150407)</td>\n",
       "      <td>移动中金在线</td>\n",
       "      <td>04-08 06:40</td>\n",
       "      <td>@名称代码收盘价日涨跌周涨跌月涨跌季涨跌深华新0000100.0000.00%0.00%0....</td>\n",
       "    </tr>\n",
       "    <tr>\n",
       "      <th>3</th>\n",
       "      <td>[每日一技]四维绕杆跑练习</td>\n",
       "      <td>爱高体育，有趣兼有料的校园足球资讯平台。每日为你分享一招足球技巧！让你更懂得如何运用爱高安全...</td>\n",
       "      <td>[每日一技]四维绕杆跑练习</td>\n",
       "      <td>爱高体育mp</td>\n",
       "      <td>10-12 22:15</td>\n",
       "      <td>爱高体育，有趣兼有料的校园足球资讯平台。每日为你分享一招足球技巧！让你更懂得如何运用爱高安...</td>\n",
       "    </tr>\n",
       "    <tr>\n",
       "      <th>4</th>\n",
       "      <td>【漫展活动】风云小分队在YACA</td>\n",
       "      <td>大家期待已久的yaca万圣动漫音乐节终于来啦，风云动漫社の动物园小分队早早来到了展会现场布置...</td>\n",
       "      <td>【漫展活动】风云小分队在YACA</td>\n",
       "      <td>顺职风云动漫社</td>\n",
       "      <td>10-29 01:07</td>\n",
       "      <td>大家期待已久的yaca万圣动漫音乐节终于来啦，风云动漫社の动物园小分队早早来到了展会现场布...</td>\n",
       "    </tr>\n",
       "  </tbody>\n",
       "</table>\n",
       "</div>"
      ],
      "text/plain": [
       "                     keywords  \\\n",
       "0        借鉴：这篇最受欢迎校训，没有一个字讲学习   \n",
       "1       市民淘宝购物一年四度被忽悠 买货容易退货难   \n",
       "2  [统计]机械.电器类公司市场表现(20150407)   \n",
       "3               [每日一技]四维绕杆跑练习   \n",
       "4            【漫展活动】风云小分队在YACA   \n",
       "\n",
       "                                                desc  \\\n",
       "0  “我知道，我不是因为偶然才来到这个世界，我是为了践行一个平凡、美丽、无私的梦想而来的；我是为...   \n",
       "1  张女士提供豆皮有虫尸的证据照片。受访者供图淘宝上购物，一年被忽悠四次。这样的事情就被市民张女...   \n",
       "2  @名称代码收盘价日涨跌周涨跌月涨跌季涨跌深华新0000100.0000.00%0.00%0....   \n",
       "3  爱高体育，有趣兼有料的校园足球资讯平台。每日为你分享一招足球技巧！让你更懂得如何运用爱高安全...   \n",
       "4  大家期待已久的yaca万圣动漫音乐节终于来啦，风云动漫社の动物园小分队早早来到了展会现场布置...   \n",
       "\n",
       "                        title          source         time  \\\n",
       "0        借鉴：这篇最受欢迎校训，没有一个字讲学习            龙乡教育  10-14 21:55   \n",
       "1       市民淘宝购物一年四度被忽悠 买货容易退货难  主流媒体-媒体平台入驻自媒体  03-24 14:13   \n",
       "2  [统计]机械.电器类公司市场表现(20150407)          移动中金在线  04-08 06:40   \n",
       "3               [每日一技]四维绕杆跑练习          爱高体育mp  10-12 22:15   \n",
       "4            【漫展活动】风云小分队在YACA         顺职风云动漫社  10-29 01:07   \n",
       "\n",
       "                                             content  \n",
       "0  “我知道，我不是因为偶然才来到这个世界，我是为了践行一个平凡、美丽、无私的梦想而来的；我是为...  \n",
       "1   张女士提供豆皮有虫尸的证据照片。受访者供图淘宝上购物，一年被忽悠四次。这样的事情就被市民张...  \n",
       "2  @名称代码收盘价日涨跌周涨跌月涨跌季涨跌深华新0000100.0000.00%0.00%0....  \n",
       "3   爱高体育，有趣兼有料的校园足球资讯平台。每日为你分享一招足球技巧！让你更懂得如何运用爱高安...  \n",
       "4   大家期待已久的yaca万圣动漫音乐节终于来啦，风云动漫社の动物园小分队早早来到了展会现场布...  "
      ]
     },
     "execution_count": 11,
     "metadata": {},
     "output_type": "execute_result"
    }
   ],
   "source": [
    "news2016.head()"
   ]
  },
  {
   "cell_type": "code",
   "execution_count": 12,
   "metadata": {},
   "outputs": [
    {
     "data": {
      "text/plain": [
       "keywords    False\n",
       "desc         True\n",
       "title       False\n",
       "source      False\n",
       "time        False\n",
       "content      True\n",
       "dtype: bool"
      ]
     },
     "execution_count": 12,
     "metadata": {},
     "output_type": "execute_result"
    }
   ],
   "source": [
    "news2016.isnull().any()"
   ]
  },
  {
   "cell_type": "code",
   "execution_count": 13,
   "metadata": {},
   "outputs": [],
   "source": [
    "#dropout empty rows\n",
    "news2016 = news2016.loc[news2016['desc'].isnull() == False]"
   ]
  },
  {
   "cell_type": "code",
   "execution_count": 14,
   "metadata": {},
   "outputs": [
    {
     "data": {
      "text/plain": [
       "keywords    False\n",
       "desc        False\n",
       "title       False\n",
       "source      False\n",
       "time        False\n",
       "content     False\n",
       "dtype: bool"
      ]
     },
     "execution_count": 14,
     "metadata": {},
     "output_type": "execute_result"
    }
   ],
   "source": [
    "news2016.isnull().any()"
   ]
  },
  {
   "cell_type": "code",
   "execution_count": 15,
   "metadata": {},
   "outputs": [],
   "source": [
    "news2016 = news2016[['content']]"
   ]
  },
  {
   "cell_type": "code",
   "execution_count": 16,
   "metadata": {},
   "outputs": [
    {
     "data": {
      "text/html": [
       "<div>\n",
       "<style scoped>\n",
       "    .dataframe tbody tr th:only-of-type {\n",
       "        vertical-align: middle;\n",
       "    }\n",
       "\n",
       "    .dataframe tbody tr th {\n",
       "        vertical-align: top;\n",
       "    }\n",
       "\n",
       "    .dataframe thead th {\n",
       "        text-align: right;\n",
       "    }\n",
       "</style>\n",
       "<table border=\"1\" class=\"dataframe\">\n",
       "  <thead>\n",
       "    <tr style=\"text-align: right;\">\n",
       "      <th></th>\n",
       "      <th>content</th>\n",
       "    </tr>\n",
       "  </thead>\n",
       "  <tbody>\n",
       "    <tr>\n",
       "      <th>0</th>\n",
       "      <td>“我知道，我不是因为偶然才来到这个世界，我是为了践行一个平凡、美丽、无私的梦想而来的；我是为...</td>\n",
       "    </tr>\n",
       "    <tr>\n",
       "      <th>1</th>\n",
       "      <td>张女士提供豆皮有虫尸的证据照片。受访者供图淘宝上购物，一年被忽悠四次。这样的事情就被市民张...</td>\n",
       "    </tr>\n",
       "    <tr>\n",
       "      <th>2</th>\n",
       "      <td>@名称代码收盘价日涨跌周涨跌月涨跌季涨跌深华新0000100.0000.00%0.00%0....</td>\n",
       "    </tr>\n",
       "    <tr>\n",
       "      <th>3</th>\n",
       "      <td>爱高体育，有趣兼有料的校园足球资讯平台。每日为你分享一招足球技巧！让你更懂得如何运用爱高安...</td>\n",
       "    </tr>\n",
       "    <tr>\n",
       "      <th>4</th>\n",
       "      <td>大家期待已久的yaca万圣动漫音乐节终于来啦，风云动漫社の动物园小分队早早来到了展会现场布...</td>\n",
       "    </tr>\n",
       "  </tbody>\n",
       "</table>\n",
       "</div>"
      ],
      "text/plain": [
       "                                             content\n",
       "0  “我知道，我不是因为偶然才来到这个世界，我是为了践行一个平凡、美丽、无私的梦想而来的；我是为...\n",
       "1   张女士提供豆皮有虫尸的证据照片。受访者供图淘宝上购物，一年被忽悠四次。这样的事情就被市民张...\n",
       "2  @名称代码收盘价日涨跌周涨跌月涨跌季涨跌深华新0000100.0000.00%0.00%0....\n",
       "3   爱高体育，有趣兼有料的校园足球资讯平台。每日为你分享一招足球技巧！让你更懂得如何运用爱高安...\n",
       "4   大家期待已久的yaca万圣动漫音乐节终于来啦，风云动漫社の动物园小分队早早来到了展会现场布..."
      ]
     },
     "execution_count": 16,
     "metadata": {},
     "output_type": "execute_result"
    }
   ],
   "source": [
    "news2016.head()"
   ]
  },
  {
   "cell_type": "code",
   "execution_count": 17,
   "metadata": {},
   "outputs": [
    {
     "data": {
      "text/html": [
       "<div>\n",
       "<style scoped>\n",
       "    .dataframe tbody tr th:only-of-type {\n",
       "        vertical-align: middle;\n",
       "    }\n",
       "\n",
       "    .dataframe tbody tr th {\n",
       "        vertical-align: top;\n",
       "    }\n",
       "\n",
       "    .dataframe thead th {\n",
       "        text-align: right;\n",
       "    }\n",
       "</style>\n",
       "<table border=\"1\" class=\"dataframe\">\n",
       "  <thead>\n",
       "    <tr style=\"text-align: right;\">\n",
       "      <th></th>\n",
       "      <th>content</th>\n",
       "    </tr>\n",
       "  </thead>\n",
       "  <tbody>\n",
       "    <tr>\n",
       "      <th>0</th>\n",
       "      <td>英国石油天然气投资公司(UKOG)9日说，英格兰南部地底探测到规模巨大的油田，石油储量或许高...</td>\n",
       "    </tr>\n",
       "    <tr>\n",
       "      <th>1</th>\n",
       "      <td>沪深300指数期货开户--金殿环球（http://www.jindvip.com/）开户可以...</td>\n",
       "    </tr>\n",
       "    <tr>\n",
       "      <th>2</th>\n",
       "      <td>取消 部分全国性加分项目取消自2015年1月1日起，取消以下全国性高考加分项目，此后获得相关...</td>\n",
       "    </tr>\n",
       "    <tr>\n",
       "      <th>3</th>\n",
       "      <td>宁夏正通东风雪铁龙现接到总部邀请，特举办：“春雷行动，龙抬头开年盛宴——东风雪铁龙百城千店...</td>\n",
       "    </tr>\n",
       "    <tr>\n",
       "      <th>4</th>\n",
       "      <td>给宝宝留下成长纪念是每位妈妈都特别期待的事情，选择专业的儿童摄影机构也是非常重要的一步，每年...</td>\n",
       "    </tr>\n",
       "  </tbody>\n",
       "</table>\n",
       "</div>"
      ],
      "text/plain": [
       "                                             content\n",
       "0  英国石油天然气投资公司(UKOG)9日说，英格兰南部地底探测到规模巨大的油田，石油储量或许高...\n",
       "1  沪深300指数期货开户--金殿环球（http://www.jindvip.com/）开户可以...\n",
       "2  取消 部分全国性加分项目取消自2015年1月1日起，取消以下全国性高考加分项目，此后获得相关...\n",
       "3   宁夏正通东风雪铁龙现接到总部邀请，特举办：“春雷行动，龙抬头开年盛宴——东风雪铁龙百城千店...\n",
       "4  给宝宝留下成长纪念是每位妈妈都特别期待的事情，选择专业的儿童摄影机构也是非常重要的一步，每年..."
      ]
     },
     "execution_count": 17,
     "metadata": {},
     "output_type": "execute_result"
    }
   ],
   "source": [
    "news_2016 = pd.concat([train, news2016], axis=0,ignore_index =True,sort=False)\n",
    "news_2016.head()"
   ]
  },
  {
   "cell_type": "code",
   "execution_count": 18,
   "metadata": {},
   "outputs": [
    {
     "data": {
      "text/plain": [
       "(2317080, 1)"
      ]
     },
     "execution_count": 18,
     "metadata": {},
     "output_type": "execute_result"
    }
   ],
   "source": [
    "news_2016.shape"
   ]
  },
  {
   "cell_type": "code",
   "execution_count": 21,
   "metadata": {},
   "outputs": [],
   "source": [
    "news_2016.to_csv('news_2016.txt',sep='\\n',index=False)"
   ]
  },
  {
   "cell_type": "code",
   "execution_count": 2,
   "metadata": {
    "scrolled": true
   },
   "outputs": [
    {
     "data": {
      "text/plain": [
       "'/Users/cheriehe/Desktop/Thesis/data/leabeleddata'"
      ]
     },
     "execution_count": 2,
     "metadata": {},
     "output_type": "execute_result"
    }
   ],
   "source": [
    "pwd()"
   ]
  },
  {
   "cell_type": "code",
   "execution_count": 3,
   "metadata": {},
   "outputs": [],
   "source": [
    "path = '/Users/cheriehe/Desktop/Thesis/data/leabeleddata/'"
   ]
  },
  {
   "cell_type": "code",
   "execution_count": 4,
   "metadata": {},
   "outputs": [
    {
     "name": "stdout",
     "output_type": "stream",
     "text": [
      "评论数目（总体）：119988\n",
      "评论数目（正向）：59993\n",
      "评论数目（负向）：59995\n"
     ]
    }
   ],
   "source": [
    "pd_all = pd.read_csv(path + 'weibo_senti_100k.csv')\n",
    "\n",
    "print('评论数目（总体）：%d' % pd_all.shape[0])\n",
    "print('评论数目（正向）：%d' % pd_all[pd_all.label==1].shape[0])\n",
    "print('评论数目（负向）：%d' % pd_all[pd_all.label==0].shape[0])"
   ]
  },
  {
   "cell_type": "code",
   "execution_count": 5,
   "metadata": {},
   "outputs": [
    {
     "data": {
      "text/html": [
       "<div>\n",
       "<style scoped>\n",
       "    .dataframe tbody tr th:only-of-type {\n",
       "        vertical-align: middle;\n",
       "    }\n",
       "\n",
       "    .dataframe tbody tr th {\n",
       "        vertical-align: top;\n",
       "    }\n",
       "\n",
       "    .dataframe thead th {\n",
       "        text-align: right;\n",
       "    }\n",
       "</style>\n",
       "<table border=\"1\" class=\"dataframe\">\n",
       "  <thead>\n",
       "    <tr style=\"text-align: right;\">\n",
       "      <th></th>\n",
       "      <th>label</th>\n",
       "      <th>review</th>\n",
       "    </tr>\n",
       "  </thead>\n",
       "  <tbody>\n",
       "    <tr>\n",
       "      <th>0</th>\n",
       "      <td>1</td>\n",
       "      <td>﻿更博了，爆照了，帅的呀，就是越来越爱你！生快傻缺[爱你][爱你][爱你]</td>\n",
       "    </tr>\n",
       "    <tr>\n",
       "      <th>1</th>\n",
       "      <td>1</td>\n",
       "      <td>@张晓鹏jonathan 土耳其的事要认真对待[哈哈]，否则直接开除。@丁丁看世界 很是细心...</td>\n",
       "    </tr>\n",
       "    <tr>\n",
       "      <th>2</th>\n",
       "      <td>1</td>\n",
       "      <td>姑娘都羡慕你呢…还有招财猫高兴……//@爱在蔓延-JC:[哈哈]小学徒一枚，等着明天见您呢/...</td>\n",
       "    </tr>\n",
       "    <tr>\n",
       "      <th>3</th>\n",
       "      <td>1</td>\n",
       "      <td>美~~~~~[爱你]</td>\n",
       "    </tr>\n",
       "    <tr>\n",
       "      <th>4</th>\n",
       "      <td>1</td>\n",
       "      <td>梦想有多大，舞台就有多大![鼓掌]</td>\n",
       "    </tr>\n",
       "  </tbody>\n",
       "</table>\n",
       "</div>"
      ],
      "text/plain": [
       "   label                                             review\n",
       "0      1              ﻿更博了，爆照了，帅的呀，就是越来越爱你！生快傻缺[爱你][爱你][爱你]\n",
       "1      1  @张晓鹏jonathan 土耳其的事要认真对待[哈哈]，否则直接开除。@丁丁看世界 很是细心...\n",
       "2      1  姑娘都羡慕你呢…还有招财猫高兴……//@爱在蔓延-JC:[哈哈]小学徒一枚，等着明天见您呢/...\n",
       "3      1                                         美~~~~~[爱你]\n",
       "4      1                                  梦想有多大，舞台就有多大![鼓掌]"
      ]
     },
     "execution_count": 5,
     "metadata": {},
     "output_type": "execute_result"
    }
   ],
   "source": [
    "pd_all.head()"
   ]
  },
  {
   "cell_type": "code",
   "execution_count": 6,
   "metadata": {},
   "outputs": [
    {
     "data": {
      "text/html": [
       "<div>\n",
       "<style scoped>\n",
       "    .dataframe tbody tr th:only-of-type {\n",
       "        vertical-align: middle;\n",
       "    }\n",
       "\n",
       "    .dataframe tbody tr th {\n",
       "        vertical-align: top;\n",
       "    }\n",
       "\n",
       "    .dataframe thead th {\n",
       "        text-align: right;\n",
       "    }\n",
       "</style>\n",
       "<table border=\"1\" class=\"dataframe\">\n",
       "  <thead>\n",
       "    <tr style=\"text-align: right;\">\n",
       "      <th></th>\n",
       "      <th>review</th>\n",
       "      <th>label</th>\n",
       "    </tr>\n",
       "  </thead>\n",
       "  <tbody>\n",
       "    <tr>\n",
       "      <th>0</th>\n",
       "      <td>﻿更博了，爆照了，帅的呀，就是越来越爱你！生快傻缺[爱你][爱你][爱你]</td>\n",
       "      <td>1</td>\n",
       "    </tr>\n",
       "    <tr>\n",
       "      <th>1</th>\n",
       "      <td>@张晓鹏jonathan 土耳其的事要认真对待[哈哈]，否则直接开除。@丁丁看世界 很是细心...</td>\n",
       "      <td>1</td>\n",
       "    </tr>\n",
       "    <tr>\n",
       "      <th>2</th>\n",
       "      <td>姑娘都羡慕你呢…还有招财猫高兴……//@爱在蔓延-JC:[哈哈]小学徒一枚，等着明天见您呢/...</td>\n",
       "      <td>1</td>\n",
       "    </tr>\n",
       "    <tr>\n",
       "      <th>3</th>\n",
       "      <td>美~~~~~[爱你]</td>\n",
       "      <td>1</td>\n",
       "    </tr>\n",
       "    <tr>\n",
       "      <th>4</th>\n",
       "      <td>梦想有多大，舞台就有多大![鼓掌]</td>\n",
       "      <td>1</td>\n",
       "    </tr>\n",
       "  </tbody>\n",
       "</table>\n",
       "</div>"
      ],
      "text/plain": [
       "                                              review  label\n",
       "0              ﻿更博了，爆照了，帅的呀，就是越来越爱你！生快傻缺[爱你][爱你][爱你]      1\n",
       "1  @张晓鹏jonathan 土耳其的事要认真对待[哈哈]，否则直接开除。@丁丁看世界 很是细心...      1\n",
       "2  姑娘都羡慕你呢…还有招财猫高兴……//@爱在蔓延-JC:[哈哈]小学徒一枚，等着明天见您呢/...      1\n",
       "3                                         美~~~~~[爱你]      1\n",
       "4                                  梦想有多大，舞台就有多大![鼓掌]      1"
      ]
     },
     "execution_count": 6,
     "metadata": {},
     "output_type": "execute_result"
    }
   ],
   "source": [
    "pd_all = pd_all[['review', 'label']]\n",
    "pd_all.head()"
   ]
  },
  {
   "cell_type": "code",
   "execution_count": 7,
   "metadata": {},
   "outputs": [],
   "source": [
    "pd_all.to_csv('weibo_label_100k.txt', sep = '\\t', index = False)"
   ]
  },
  {
   "cell_type": "code",
   "execution_count": 8,
   "metadata": {
    "scrolled": true
   },
   "outputs": [
    {
     "name": "stdout",
     "output_type": "stream",
     "text": [
      "微博数目（总体）：361744\n",
      "微博数目（喜悦）：199496\n",
      "微博数目（愤怒）：51714\n",
      "微博数目（厌恶）：55267\n",
      "微博数目（低落）：55267\n"
     ]
    }
   ],
   "source": [
    "simpl = pd.read_csv(path + 'simplifyweibo_4_moods.csv')\n",
    "\n",
    "moods = {0: '喜悦', 1: '愤怒', 2: '厌恶', 3: '低落'}\n",
    "\n",
    "print('微博数目（总体）：%d' % simpl.shape[0])\n",
    "\n",
    "for label, mood in moods.items(): \n",
    "    print('微博数目（{}）：{}'.format(mood,  simpl[simpl.label==label].shape[0]))"
   ]
  },
  {
   "cell_type": "code",
   "execution_count": 9,
   "metadata": {},
   "outputs": [
    {
     "data": {
      "text/plain": [
       "True"
      ]
     },
     "execution_count": 9,
     "metadata": {},
     "output_type": "execute_result"
    }
   ],
   "source": [
    "55267*2 + 51714 + 199496 == 361744"
   ]
  },
  {
   "cell_type": "code",
   "execution_count": 10,
   "metadata": {
    "scrolled": true
   },
   "outputs": [
    {
     "data": {
      "text/html": [
       "<div>\n",
       "<style scoped>\n",
       "    .dataframe tbody tr th:only-of-type {\n",
       "        vertical-align: middle;\n",
       "    }\n",
       "\n",
       "    .dataframe tbody tr th {\n",
       "        vertical-align: top;\n",
       "    }\n",
       "\n",
       "    .dataframe thead th {\n",
       "        text-align: right;\n",
       "    }\n",
       "</style>\n",
       "<table border=\"1\" class=\"dataframe\">\n",
       "  <thead>\n",
       "    <tr style=\"text-align: right;\">\n",
       "      <th></th>\n",
       "      <th>label</th>\n",
       "      <th>review</th>\n",
       "    </tr>\n",
       "  </thead>\n",
       "  <tbody>\n",
       "    <tr>\n",
       "      <th>62361</th>\n",
       "      <td>0</td>\n",
       "      <td>....等五开心伽时候就試 下...。【实用】怎样使手机随时变成空号！让你的手机随时变成空号...</td>\n",
       "    </tr>\n",
       "    <tr>\n",
       "      <th>43164</th>\n",
       "      <td>0</td>\n",
       "      <td>@ 微微雨xuxu 。。。我觉得这个绝对有必要存一下。到时候别忘了这页哈。</td>\n",
       "    </tr>\n",
       "    <tr>\n",
       "      <th>350105</th>\n",
       "      <td>3</td>\n",
       "      <td>我们就需要在劫难中被点点滴滴去感动没有了爱我们还剩下什么终于看见一条好消息了。那位妈妈非常有...</td>\n",
       "    </tr>\n",
       "    <tr>\n",
       "      <th>245893</th>\n",
       "      <td>1</td>\n",
       "      <td>上海火灾多人死于室内是因百姓缺乏自救常识请问,中国老百姓还要懂多少自救常识还要成为多少个领域...</td>\n",
       "    </tr>\n",
       "    <tr>\n",
       "      <th>59021</th>\n",
       "      <td>0</td>\n",
       "      <td>双花殿大腿腿带我去嘛TAT : 喜欢日系元素的妹妹留意哟蓓蓓今天推荐一家在田子坊的小店，除了...</td>\n",
       "    </tr>\n",
       "    <tr>\n",
       "      <th>165273</th>\n",
       "      <td>0</td>\n",
       "      <td>哇面包情书有够浪漫，应该中国没得卖吧？亲爱的，我能用面包机写出情书给你吃这款面包机出自Sas...</td>\n",
       "    </tr>\n",
       "    <tr>\n",
       "      <th>89410</th>\n",
       "      <td>0</td>\n",
       "      <td>对唐骏似乎很损，但是有点道理。穿西服的不一定都是君子，也有可能是唐骏；笑得灿烂的不一定都是真...</td>\n",
       "    </tr>\n",
       "    <tr>\n",
       "      <th>94426</th>\n",
       "      <td>0</td>\n",
       "      <td>回复好美！欣赏了~ ~ 心似莲盈盈如水，片片心香丝丝回味，一如荷叶下脉脉的沉醉；柳如眉飘逸似...</td>\n",
       "    </tr>\n",
       "    <tr>\n",
       "      <th>195693</th>\n",
       "      <td>0</td>\n",
       "      <td>回复相信我没错的！看来我要去听一听老郭的相声了，看看怎么样现代人笑点都很高，我觉得郭德纲是一...</td>\n",
       "    </tr>\n",
       "    <tr>\n",
       "      <th>207379</th>\n",
       "      <td>1</td>\n",
       "      <td>非腐竹居然也召集！！！？？？。11月30日中午12点整</td>\n",
       "    </tr>\n",
       "  </tbody>\n",
       "</table>\n",
       "</div>"
      ],
      "text/plain": [
       "        label                                             review\n",
       "62361       0  ....等五开心伽时候就試 下...。【实用】怎样使手机随时变成空号！让你的手机随时变成空号...\n",
       "43164       0              @ 微微雨xuxu 。。。我觉得这个绝对有必要存一下。到时候别忘了这页哈。\n",
       "350105      3  我们就需要在劫难中被点点滴滴去感动没有了爱我们还剩下什么终于看见一条好消息了。那位妈妈非常有...\n",
       "245893      1  上海火灾多人死于室内是因百姓缺乏自救常识请问,中国老百姓还要懂多少自救常识还要成为多少个领域...\n",
       "59021       0  双花殿大腿腿带我去嘛TAT : 喜欢日系元素的妹妹留意哟蓓蓓今天推荐一家在田子坊的小店，除了...\n",
       "165273      0  哇面包情书有够浪漫，应该中国没得卖吧？亲爱的，我能用面包机写出情书给你吃这款面包机出自Sas...\n",
       "89410       0  对唐骏似乎很损，但是有点道理。穿西服的不一定都是君子，也有可能是唐骏；笑得灿烂的不一定都是真...\n",
       "94426       0  回复好美！欣赏了~ ~ 心似莲盈盈如水，片片心香丝丝回味，一如荷叶下脉脉的沉醉；柳如眉飘逸似...\n",
       "195693      0  回复相信我没错的！看来我要去听一听老郭的相声了，看看怎么样现代人笑点都很高，我觉得郭德纲是一...\n",
       "207379      1                        非腐竹居然也召集！！！？？？。11月30日中午12点整"
      ]
     },
     "execution_count": 10,
     "metadata": {},
     "output_type": "execute_result"
    }
   ],
   "source": [
    "simpl.sample(10)"
   ]
  },
  {
   "cell_type": "code",
   "execution_count": 11,
   "metadata": {
    "scrolled": true
   },
   "outputs": [
    {
     "data": {
      "text/html": [
       "<div>\n",
       "<style scoped>\n",
       "    .dataframe tbody tr th:only-of-type {\n",
       "        vertical-align: middle;\n",
       "    }\n",
       "\n",
       "    .dataframe tbody tr th {\n",
       "        vertical-align: top;\n",
       "    }\n",
       "\n",
       "    .dataframe thead th {\n",
       "        text-align: right;\n",
       "    }\n",
       "</style>\n",
       "<table border=\"1\" class=\"dataframe\">\n",
       "  <thead>\n",
       "    <tr style=\"text-align: right;\">\n",
       "      <th></th>\n",
       "      <th>label</th>\n",
       "      <th>review</th>\n",
       "    </tr>\n",
       "  </thead>\n",
       "  <tbody>\n",
       "    <tr>\n",
       "      <th>83497</th>\n",
       "      <td>0</td>\n",
       "      <td>村姑喵~ 【难伺候】这冷气开的....忒冷了吧～～</td>\n",
       "    </tr>\n",
       "    <tr>\n",
       "      <th>105503</th>\n",
       "      <td>0</td>\n",
       "      <td>我齿笑你！！！哪个少女不善怀春哪个美女笑不露齿</td>\n",
       "    </tr>\n",
       "    <tr>\n",
       "      <th>29918</th>\n",
       "      <td>0</td>\n",
       "      <td>前两日去左HK 啊。。。好多谢ANDY 带我去玩啊。去左好多地方咯，沙田、山顶、赤柱、荃湾。...</td>\n",
       "    </tr>\n",
       "    <tr>\n",
       "      <th>125547</th>\n",
       "      <td>0</td>\n",
       "      <td>踢球的是贝克汉姆么？这“任意球”精准的让人目瞪口呆！</td>\n",
       "    </tr>\n",
       "    <tr>\n",
       "      <th>172970</th>\n",
       "      <td>0</td>\n",
       "      <td>我要到楼下冲动一下···调教巧克力！在和面条··面包商量怎样安置的作品。否则，罗叔失落呀在耿...</td>\n",
       "    </tr>\n",
       "  </tbody>\n",
       "</table>\n",
       "</div>"
      ],
      "text/plain": [
       "        label                                             review\n",
       "83497       0                          村姑喵~ 【难伺候】这冷气开的....忒冷了吧～～\n",
       "105503      0                            我齿笑你！！！哪个少女不善怀春哪个美女笑不露齿\n",
       "29918       0  前两日去左HK 啊。。。好多谢ANDY 带我去玩啊。去左好多地方咯，沙田、山顶、赤柱、荃湾。...\n",
       "125547      0                         踢球的是贝克汉姆么？这“任意球”精准的让人目瞪口呆！\n",
       "172970      0  我要到楼下冲动一下···调教巧克力！在和面条··面包商量怎样安置的作品。否则，罗叔失落呀在耿..."
      ]
     },
     "execution_count": 11,
     "metadata": {},
     "output_type": "execute_result"
    }
   ],
   "source": [
    "weibo_0 = simpl[simpl['label']==0]\n",
    "weibo_0.sample(5)"
   ]
  },
  {
   "cell_type": "code",
   "execution_count": 12,
   "metadata": {},
   "outputs": [
    {
     "data": {
      "text/plain": [
       "label     199496\n",
       "review    199496\n",
       "dtype: int64"
      ]
     },
     "execution_count": 12,
     "metadata": {},
     "output_type": "execute_result"
    }
   ],
   "source": [
    "weibo_0.count()"
   ]
  },
  {
   "cell_type": "code",
   "execution_count": 52,
   "metadata": {},
   "outputs": [
    {
     "data": {
      "text/plain": [
       "1"
      ]
     },
     "execution_count": 52,
     "metadata": {},
     "output_type": "execute_result"
    }
   ],
   "source": [
    "label = np.ones(len(weibo_0),dtype=np.int).tolist()\n",
    "label[0]"
   ]
  },
  {
   "cell_type": "code",
   "execution_count": 53,
   "metadata": {
    "scrolled": false
   },
   "outputs": [
    {
     "name": "stderr",
     "output_type": "stream",
     "text": [
      "/Users/cheriehe/anaconda3/lib/python3.7/site-packages/ipykernel_launcher.py:1: SettingWithCopyWarning: \n",
      "A value is trying to be set on a copy of a slice from a DataFrame.\n",
      "Try using .loc[row_indexer,col_indexer] = value instead\n",
      "\n",
      "See the caveats in the documentation: http://pandas.pydata.org/pandas-docs/stable/indexing.html#indexing-view-versus-copy\n",
      "  \"\"\"Entry point for launching an IPython kernel.\n"
     ]
    }
   ],
   "source": [
    "weibo_0['label'] = label"
   ]
  },
  {
   "cell_type": "code",
   "execution_count": 54,
   "metadata": {},
   "outputs": [
    {
     "data": {
      "text/html": [
       "<div>\n",
       "<style scoped>\n",
       "    .dataframe tbody tr th:only-of-type {\n",
       "        vertical-align: middle;\n",
       "    }\n",
       "\n",
       "    .dataframe tbody tr th {\n",
       "        vertical-align: top;\n",
       "    }\n",
       "\n",
       "    .dataframe thead th {\n",
       "        text-align: right;\n",
       "    }\n",
       "</style>\n",
       "<table border=\"1\" class=\"dataframe\">\n",
       "  <thead>\n",
       "    <tr style=\"text-align: right;\">\n",
       "      <th></th>\n",
       "      <th>label</th>\n",
       "      <th>review</th>\n",
       "    </tr>\n",
       "  </thead>\n",
       "  <tbody>\n",
       "    <tr>\n",
       "      <th>0</th>\n",
       "      <td>1</td>\n",
       "      <td>﻿啊呀呀！要死啦！么么么！只穿外套就好了，我认为里面那件很多余啊周小伦喜歡 你各種 五角星的...</td>\n",
       "    </tr>\n",
       "    <tr>\n",
       "      <th>1</th>\n",
       "      <td>1</td>\n",
       "      <td>嗯……既然大姚通知了……那我也表示下收到……姚，你知道吗？假如外星人入侵地球，只要摧毁我们的...</td>\n",
       "    </tr>\n",
       "    <tr>\n",
       "      <th>2</th>\n",
       "      <td>1</td>\n",
       "      <td>风格不一样嘛，都喜欢！最喜欢哪张？</td>\n",
       "    </tr>\n",
       "    <tr>\n",
       "      <th>3</th>\n",
       "      <td>1</td>\n",
       "      <td>好呀，试试D .I .Y .去死皮面膜1.将燕麦片加水中浸泡6小时，加入木瓜牛奶搅拌。2.放...</td>\n",
       "    </tr>\n",
       "    <tr>\n",
       "      <th>4</th>\n",
       "      <td>1</td>\n",
       "      <td>张老师，谢谢侬的信任！粉丝多少无所谓重在质地近日发现一个现象——他加了你关注，你回加后，他立...</td>\n",
       "    </tr>\n",
       "  </tbody>\n",
       "</table>\n",
       "</div>"
      ],
      "text/plain": [
       "   label                                             review\n",
       "0      1  ﻿啊呀呀！要死啦！么么么！只穿外套就好了，我认为里面那件很多余啊周小伦喜歡 你各種 五角星的...\n",
       "1      1  嗯……既然大姚通知了……那我也表示下收到……姚，你知道吗？假如外星人入侵地球，只要摧毁我们的...\n",
       "2      1                                  风格不一样嘛，都喜欢！最喜欢哪张？\n",
       "3      1  好呀，试试D .I .Y .去死皮面膜1.将燕麦片加水中浸泡6小时，加入木瓜牛奶搅拌。2.放...\n",
       "4      1  张老师，谢谢侬的信任！粉丝多少无所谓重在质地近日发现一个现象——他加了你关注，你回加后，他立..."
      ]
     },
     "execution_count": 54,
     "metadata": {},
     "output_type": "execute_result"
    }
   ],
   "source": [
    "weibo_0.head()"
   ]
  },
  {
   "cell_type": "code",
   "execution_count": 73,
   "metadata": {
    "scrolled": true
   },
   "outputs": [
    {
     "data": {
      "text/html": [
       "<div>\n",
       "<style scoped>\n",
       "    .dataframe tbody tr th:only-of-type {\n",
       "        vertical-align: middle;\n",
       "    }\n",
       "\n",
       "    .dataframe tbody tr th {\n",
       "        vertical-align: top;\n",
       "    }\n",
       "\n",
       "    .dataframe thead th {\n",
       "        text-align: right;\n",
       "    }\n",
       "</style>\n",
       "<table border=\"1\" class=\"dataframe\">\n",
       "  <thead>\n",
       "    <tr style=\"text-align: right;\">\n",
       "      <th></th>\n",
       "      <th>label</th>\n",
       "      <th>review</th>\n",
       "    </tr>\n",
       "  </thead>\n",
       "  <tbody>\n",
       "    <tr>\n",
       "      <th>227807</th>\n",
       "      <td>1</td>\n",
       "      <td>呼呼七点半走我凌晨五点得出门四点得起床吗？55555555</td>\n",
       "    </tr>\n",
       "    <tr>\n",
       "      <th>242745</th>\n",
       "      <td>1</td>\n",
       "      <td>亲爱的不好意思我笑死了&gt; &lt; 我今天去买了香蕉！我竟然买了香蕉！！我怎么会去买香蕉啊！！！</td>\n",
       "    </tr>\n",
       "    <tr>\n",
       "      <th>237562</th>\n",
       "      <td>1</td>\n",
       "      <td>农村信用社</td>\n",
       "    </tr>\n",
       "  </tbody>\n",
       "</table>\n",
       "</div>"
      ],
      "text/plain": [
       "        label                                         review\n",
       "227807      1                  呼呼七点半走我凌晨五点得出门四点得起床吗？55555555\n",
       "242745      1  亲爱的不好意思我笑死了> < 我今天去买了香蕉！我竟然买了香蕉！！我怎么会去买香蕉啊！！！\n",
       "237562      1                                          农村信用社"
      ]
     },
     "execution_count": 73,
     "metadata": {},
     "output_type": "execute_result"
    }
   ],
   "source": [
    "weibo_1 = simpl[simpl['label']==1]\n",
    "weibo_1.sample(3)"
   ]
  },
  {
   "cell_type": "code",
   "execution_count": 74,
   "metadata": {},
   "outputs": [
    {
     "data": {
      "text/plain": [
       "0"
      ]
     },
     "execution_count": 74,
     "metadata": {},
     "output_type": "execute_result"
    }
   ],
   "source": [
    "label = np.zeros(len(weibo_1),dtype=np.int).tolist()\n",
    "label[0]"
   ]
  },
  {
   "cell_type": "code",
   "execution_count": 75,
   "metadata": {
    "scrolled": true
   },
   "outputs": [
    {
     "name": "stderr",
     "output_type": "stream",
     "text": [
      "/Users/cheriehe/anaconda3/lib/python3.7/site-packages/ipykernel_launcher.py:1: SettingWithCopyWarning: \n",
      "A value is trying to be set on a copy of a slice from a DataFrame.\n",
      "Try using .loc[row_indexer,col_indexer] = value instead\n",
      "\n",
      "See the caveats in the documentation: http://pandas.pydata.org/pandas-docs/stable/indexing.html#indexing-view-versus-copy\n",
      "  \"\"\"Entry point for launching an IPython kernel.\n"
     ]
    },
    {
     "data": {
      "text/html": [
       "<div>\n",
       "<style scoped>\n",
       "    .dataframe tbody tr th:only-of-type {\n",
       "        vertical-align: middle;\n",
       "    }\n",
       "\n",
       "    .dataframe tbody tr th {\n",
       "        vertical-align: top;\n",
       "    }\n",
       "\n",
       "    .dataframe thead th {\n",
       "        text-align: right;\n",
       "    }\n",
       "</style>\n",
       "<table border=\"1\" class=\"dataframe\">\n",
       "  <thead>\n",
       "    <tr style=\"text-align: right;\">\n",
       "      <th></th>\n",
       "      <th>label</th>\n",
       "      <th>review</th>\n",
       "    </tr>\n",
       "  </thead>\n",
       "  <tbody>\n",
       "    <tr>\n",
       "      <th>199496</th>\n",
       "      <td>0</td>\n",
       "      <td>﻿回复老农民的处女情结，原著里的女主很丰满滴，而且很为胸大烦恼滴，老三第一次背她过河被胸器压...</td>\n",
       "    </tr>\n",
       "    <tr>\n",
       "      <th>199497</th>\n",
       "      <td>0</td>\n",
       "      <td>。今天才知道，原来世博不能谈“抄袭”，因爲 抄袭个案还真不少，不少当事人一肚子的无奈。</td>\n",
       "    </tr>\n",
       "    <tr>\n",
       "      <th>199498</th>\n",
       "      <td>0</td>\n",
       "      <td>回复好吧，下次一起，今儿狗害得我们都没玩····不是么。我昨天明明说让你们叫我。在路上。狗是重点。</td>\n",
       "    </tr>\n",
       "    <tr>\n",
       "      <th>199499</th>\n",
       "      <td>0</td>\n",
       "      <td>愛 面膜。。。。吼吼，分享有礼啦，我们将再抽取30名网友，赠送水蜜桃面膜，盒装的哦，一起参与...</td>\n",
       "    </tr>\n",
       "    <tr>\n",
       "      <th>199500</th>\n",
       "      <td>0</td>\n",
       "      <td>没有希望的国家操！: 汽油涨价。。。自焚不起了: : : : : 不忍看，中国这什么，助纣为...</td>\n",
       "    </tr>\n",
       "  </tbody>\n",
       "</table>\n",
       "</div>"
      ],
      "text/plain": [
       "        label                                             review\n",
       "199496      0  ﻿回复老农民的处女情结，原著里的女主很丰满滴，而且很为胸大烦恼滴，老三第一次背她过河被胸器压...\n",
       "199497      0        。今天才知道，原来世博不能谈“抄袭”，因爲 抄袭个案还真不少，不少当事人一肚子的无奈。\n",
       "199498      0  回复好吧，下次一起，今儿狗害得我们都没玩····不是么。我昨天明明说让你们叫我。在路上。狗是重点。\n",
       "199499      0  愛 面膜。。。。吼吼，分享有礼啦，我们将再抽取30名网友，赠送水蜜桃面膜，盒装的哦，一起参与...\n",
       "199500      0  没有希望的国家操！: 汽油涨价。。。自焚不起了: : : : : 不忍看，中国这什么，助纣为..."
      ]
     },
     "execution_count": 75,
     "metadata": {},
     "output_type": "execute_result"
    }
   ],
   "source": [
    "weibo_1['label'] = label\n",
    "weibo_1.sample(3)\n",
    "weibo_1.head()"
   ]
  },
  {
   "cell_type": "code",
   "execution_count": 76,
   "metadata": {},
   "outputs": [
    {
     "data": {
      "text/html": [
       "<div>\n",
       "<style scoped>\n",
       "    .dataframe tbody tr th:only-of-type {\n",
       "        vertical-align: middle;\n",
       "    }\n",
       "\n",
       "    .dataframe tbody tr th {\n",
       "        vertical-align: top;\n",
       "    }\n",
       "\n",
       "    .dataframe thead th {\n",
       "        text-align: right;\n",
       "    }\n",
       "</style>\n",
       "<table border=\"1\" class=\"dataframe\">\n",
       "  <thead>\n",
       "    <tr style=\"text-align: right;\">\n",
       "      <th></th>\n",
       "      <th>label</th>\n",
       "      <th>review</th>\n",
       "    </tr>\n",
       "  </thead>\n",
       "  <tbody>\n",
       "    <tr>\n",
       "      <th>286835</th>\n",
       "      <td>2</td>\n",
       "      <td>畅畅，看到你更新心情真的不一样咧！好开心，好贴心，好幸福……让大家等久了还不太会用微博中.....</td>\n",
       "    </tr>\n",
       "    <tr>\n",
       "      <th>271012</th>\n",
       "      <td>2</td>\n",
       "      <td>啊哈哈哈哈哈哈哈哈哈哈~ ~ ~ ~ 介个太真实太真实太真实了！！！！！各位写手瞧过来。。。...</td>\n",
       "    </tr>\n",
       "    <tr>\n",
       "      <th>258964</th>\n",
       "      <td>2</td>\n",
       "      <td>我更惨！。。为什么！！！狮子座。</td>\n",
       "    </tr>\n",
       "    <tr>\n",
       "      <th>285626</th>\n",
       "      <td>2</td>\n",
       "      <td>明天要早起做media monitoring</td>\n",
       "    </tr>\n",
       "    <tr>\n",
       "      <th>252967</th>\n",
       "      <td>2</td>\n",
       "      <td>回复哈哈。为了这段跨越种族，不被世俗眼光接受的爱情，我容易嘛我！约会一只企鹅MM 真的。。。...</td>\n",
       "    </tr>\n",
       "  </tbody>\n",
       "</table>\n",
       "</div>"
      ],
      "text/plain": [
       "        label                                             review\n",
       "286835      2  畅畅，看到你更新心情真的不一样咧！好开心，好贴心，好幸福……让大家等久了还不太会用微博中.....\n",
       "271012      2  啊哈哈哈哈哈哈哈哈哈哈~ ~ ~ ~ 介个太真实太真实太真实了！！！！！各位写手瞧过来。。。...\n",
       "258964      2                                   我更惨！。。为什么！！！狮子座。\n",
       "285626      2                             明天要早起做media monitoring\n",
       "252967      2  回复哈哈。为了这段跨越种族，不被世俗眼光接受的爱情，我容易嘛我！约会一只企鹅MM 真的。。。..."
      ]
     },
     "execution_count": 76,
     "metadata": {},
     "output_type": "execute_result"
    }
   ],
   "source": [
    "weibo_2 = simpl[simpl['label']==2]\n",
    "weibo_2.sample(5)"
   ]
  },
  {
   "cell_type": "code",
   "execution_count": 77,
   "metadata": {},
   "outputs": [
    {
     "data": {
      "text/plain": [
       "0"
      ]
     },
     "execution_count": 77,
     "metadata": {},
     "output_type": "execute_result"
    }
   ],
   "source": [
    "label = np.zeros(len(weibo_2),dtype=np.int).tolist()\n",
    "label[0]"
   ]
  },
  {
   "cell_type": "code",
   "execution_count": 78,
   "metadata": {},
   "outputs": [
    {
     "name": "stderr",
     "output_type": "stream",
     "text": [
      "/Users/cheriehe/anaconda3/lib/python3.7/site-packages/ipykernel_launcher.py:1: SettingWithCopyWarning: \n",
      "A value is trying to be set on a copy of a slice from a DataFrame.\n",
      "Try using .loc[row_indexer,col_indexer] = value instead\n",
      "\n",
      "See the caveats in the documentation: http://pandas.pydata.org/pandas-docs/stable/indexing.html#indexing-view-versus-copy\n",
      "  \"\"\"Entry point for launching an IPython kernel.\n"
     ]
    },
    {
     "data": {
      "text/html": [
       "<div>\n",
       "<style scoped>\n",
       "    .dataframe tbody tr th:only-of-type {\n",
       "        vertical-align: middle;\n",
       "    }\n",
       "\n",
       "    .dataframe tbody tr th {\n",
       "        vertical-align: top;\n",
       "    }\n",
       "\n",
       "    .dataframe thead th {\n",
       "        text-align: right;\n",
       "    }\n",
       "</style>\n",
       "<table border=\"1\" class=\"dataframe\">\n",
       "  <thead>\n",
       "    <tr style=\"text-align: right;\">\n",
       "      <th></th>\n",
       "      <th>label</th>\n",
       "      <th>review</th>\n",
       "    </tr>\n",
       "  </thead>\n",
       "  <tbody>\n",
       "    <tr>\n",
       "      <th>287470</th>\n",
       "      <td>0</td>\n",
       "      <td>这个学生是傻啊，还是傻啊青岛女教师张雪静雇学生到深圳杀情敌，学生看走眼误将女清洁工王素容当成...</td>\n",
       "    </tr>\n",
       "    <tr>\n",
       "      <th>279523</th>\n",
       "      <td>0</td>\n",
       "      <td>我去！奥特曼呢？怪物。。我害pia .2012真的要到来了，五头蛇都出现了~ ~ ~ ~</td>\n",
       "    </tr>\n",
       "    <tr>\n",
       "      <th>301469</th>\n",
       "      <td>0</td>\n",
       "      <td>...................。一个很冷、很变态、却又感人的故事……</td>\n",
       "    </tr>\n",
       "  </tbody>\n",
       "</table>\n",
       "</div>"
      ],
      "text/plain": [
       "        label                                             review\n",
       "287470      0  这个学生是傻啊，还是傻啊青岛女教师张雪静雇学生到深圳杀情敌，学生看走眼误将女清洁工王素容当成...\n",
       "279523      0       我去！奥特曼呢？怪物。。我害pia .2012真的要到来了，五头蛇都出现了~ ~ ~ ~\n",
       "301469      0             ...................。一个很冷、很变态、却又感人的故事……"
      ]
     },
     "execution_count": 78,
     "metadata": {},
     "output_type": "execute_result"
    }
   ],
   "source": [
    "weibo_2['label'] = label\n",
    "weibo_2.sample(3)"
   ]
  },
  {
   "cell_type": "code",
   "execution_count": 79,
   "metadata": {
    "scrolled": true
   },
   "outputs": [
    {
     "data": {
      "text/html": [
       "<div>\n",
       "<style scoped>\n",
       "    .dataframe tbody tr th:only-of-type {\n",
       "        vertical-align: middle;\n",
       "    }\n",
       "\n",
       "    .dataframe tbody tr th {\n",
       "        vertical-align: top;\n",
       "    }\n",
       "\n",
       "    .dataframe thead th {\n",
       "        text-align: right;\n",
       "    }\n",
       "</style>\n",
       "<table border=\"1\" class=\"dataframe\">\n",
       "  <thead>\n",
       "    <tr style=\"text-align: right;\">\n",
       "      <th></th>\n",
       "      <th>label</th>\n",
       "      <th>review</th>\n",
       "    </tr>\n",
       "  </thead>\n",
       "  <tbody>\n",
       "    <tr>\n",
       "      <th>336019</th>\n",
       "      <td>3</td>\n",
       "      <td>昨天在外晒了一天好像有点中暑上火了。。。亲们告诉我吃牛黄解毒片好呢还是去火片呢？</td>\n",
       "    </tr>\n",
       "    <tr>\n",
       "      <th>355298</th>\n",
       "      <td>3</td>\n",
       "      <td>55555~ ~ ~ 我脸好烫好烫好烫呀</td>\n",
       "    </tr>\n",
       "    <tr>\n",
       "      <th>346099</th>\n",
       "      <td>3</td>\n",
       "      <td>熊猫塔马德智商太高了！！！胜过章鱼帝【中国预测帝】12只熊猫轮番预测亚运金牌，饲养员为熊猫准...</td>\n",
       "    </tr>\n",
       "    <tr>\n",
       "      <th>338103</th>\n",
       "      <td>3</td>\n",
       "      <td>親 爱的，您太成功吖 ，又是诗人又是顶级爱情專 家主持，现在还拍片！好好休息哦~ 刚收工到家...</td>\n",
       "    </tr>\n",
       "    <tr>\n",
       "      <th>324627</th>\n",
       "      <td>3</td>\n",
       "      <td>一个剧情片的梗概或开头他姓宰，40岁。三年前，他在贵州，用杀猪刀将与妻子通奸的男子杀害，并将...</td>\n",
       "    </tr>\n",
       "  </tbody>\n",
       "</table>\n",
       "</div>"
      ],
      "text/plain": [
       "        label                                             review\n",
       "336019      3           昨天在外晒了一天好像有点中暑上火了。。。亲们告诉我吃牛黄解毒片好呢还是去火片呢？\n",
       "355298      3                               55555~ ~ ~ 我脸好烫好烫好烫呀\n",
       "346099      3  熊猫塔马德智商太高了！！！胜过章鱼帝【中国预测帝】12只熊猫轮番预测亚运金牌，饲养员为熊猫准...\n",
       "338103      3  親 爱的，您太成功吖 ，又是诗人又是顶级爱情專 家主持，现在还拍片！好好休息哦~ 刚收工到家...\n",
       "324627      3  一个剧情片的梗概或开头他姓宰，40岁。三年前，他在贵州，用杀猪刀将与妻子通奸的男子杀害，并将..."
      ]
     },
     "execution_count": 79,
     "metadata": {},
     "output_type": "execute_result"
    }
   ],
   "source": [
    "# simpl['label'] = \n",
    "# for i in range(len(simpl[simpl['label']==3])):\n",
    "weibo_3 = simpl[simpl['label']==3]\n",
    "weibo_3.sample(5)"
   ]
  },
  {
   "cell_type": "code",
   "execution_count": 80,
   "metadata": {},
   "outputs": [
    {
     "data": {
      "text/plain": [
       "0"
      ]
     },
     "execution_count": 80,
     "metadata": {},
     "output_type": "execute_result"
    }
   ],
   "source": [
    "label = np.zeros(len(weibo_3),dtype=np.int).tolist()\n",
    "label[0]"
   ]
  },
  {
   "cell_type": "code",
   "execution_count": 81,
   "metadata": {
    "scrolled": true
   },
   "outputs": [
    {
     "data": {
      "text/plain": [
       "label     55267\n",
       "review    55267\n",
       "dtype: int64"
      ]
     },
     "execution_count": 81,
     "metadata": {},
     "output_type": "execute_result"
    }
   ],
   "source": [
    "weibo_3.count()"
   ]
  },
  {
   "cell_type": "code",
   "execution_count": 82,
   "metadata": {
    "scrolled": true
   },
   "outputs": [
    {
     "name": "stderr",
     "output_type": "stream",
     "text": [
      "/Users/cheriehe/anaconda3/lib/python3.7/site-packages/ipykernel_launcher.py:1: SettingWithCopyWarning: \n",
      "A value is trying to be set on a copy of a slice from a DataFrame.\n",
      "Try using .loc[row_indexer,col_indexer] = value instead\n",
      "\n",
      "See the caveats in the documentation: http://pandas.pydata.org/pandas-docs/stable/indexing.html#indexing-view-versus-copy\n",
      "  \"\"\"Entry point for launching an IPython kernel.\n"
     ]
    },
    {
     "data": {
      "text/html": [
       "<div>\n",
       "<style scoped>\n",
       "    .dataframe tbody tr th:only-of-type {\n",
       "        vertical-align: middle;\n",
       "    }\n",
       "\n",
       "    .dataframe tbody tr th {\n",
       "        vertical-align: top;\n",
       "    }\n",
       "\n",
       "    .dataframe thead th {\n",
       "        text-align: right;\n",
       "    }\n",
       "</style>\n",
       "<table border=\"1\" class=\"dataframe\">\n",
       "  <thead>\n",
       "    <tr style=\"text-align: right;\">\n",
       "      <th></th>\n",
       "      <th>label</th>\n",
       "      <th>review</th>\n",
       "    </tr>\n",
       "  </thead>\n",
       "  <tbody>\n",
       "    <tr>\n",
       "      <th>306477</th>\n",
       "      <td>0</td>\n",
       "      <td>﻿无语......好冷，哥哥，快点拍，后面还有几十个呢！</td>\n",
       "    </tr>\n",
       "    <tr>\n",
       "      <th>306478</th>\n",
       "      <td>0</td>\n",
       "      <td>我发现这个新浪微博是周笔畅粉丝聚集地也~ 为什么基本上10个人里面就有几个在迷她</td>\n",
       "    </tr>\n",
       "    <tr>\n",
       "      <th>306479</th>\n",
       "      <td>0</td>\n",
       "      <td>感谢和谐强大的祖国怎么都没有留下帮助他们的联系方法？怎么办呢太心酸了。【贵州茶花村的挣扎】八...</td>\n",
       "    </tr>\n",
       "  </tbody>\n",
       "</table>\n",
       "</div>"
      ],
      "text/plain": [
       "        label                                             review\n",
       "306477      0                       ﻿无语......好冷，哥哥，快点拍，后面还有几十个呢！\n",
       "306478      0           我发现这个新浪微博是周笔畅粉丝聚集地也~ 为什么基本上10个人里面就有几个在迷她\n",
       "306479      0  感谢和谐强大的祖国怎么都没有留下帮助他们的联系方法？怎么办呢太心酸了。【贵州茶花村的挣扎】八..."
      ]
     },
     "execution_count": 82,
     "metadata": {},
     "output_type": "execute_result"
    }
   ],
   "source": [
    "weibo_3['label'] = label\n",
    "weibo_3.head(3)"
   ]
  },
  {
   "cell_type": "code",
   "execution_count": 83,
   "metadata": {
    "scrolled": true
   },
   "outputs": [
    {
     "data": {
      "text/plain": [
       "label     51714\n",
       "review    51714\n",
       "dtype: int64"
      ]
     },
     "execution_count": 83,
     "metadata": {},
     "output_type": "execute_result"
    }
   ],
   "source": [
    "weibo_1.count()"
   ]
  },
  {
   "cell_type": "code",
   "execution_count": 84,
   "metadata": {},
   "outputs": [
    {
     "data": {
      "text/plain": [
       "label     55267\n",
       "review    55267\n",
       "dtype: int64"
      ]
     },
     "execution_count": 84,
     "metadata": {},
     "output_type": "execute_result"
    }
   ],
   "source": [
    "weibo_2.count()"
   ]
  },
  {
   "cell_type": "code",
   "execution_count": 85,
   "metadata": {},
   "outputs": [
    {
     "data": {
      "text/plain": [
       "label     55267\n",
       "review    55267\n",
       "dtype: int64"
      ]
     },
     "execution_count": 85,
     "metadata": {},
     "output_type": "execute_result"
    }
   ],
   "source": [
    "weibo_3.count()"
   ]
  },
  {
   "cell_type": "code",
   "execution_count": 86,
   "metadata": {},
   "outputs": [
    {
     "data": {
      "text/html": [
       "<div>\n",
       "<style scoped>\n",
       "    .dataframe tbody tr th:only-of-type {\n",
       "        vertical-align: middle;\n",
       "    }\n",
       "\n",
       "    .dataframe tbody tr th {\n",
       "        vertical-align: top;\n",
       "    }\n",
       "\n",
       "    .dataframe thead th {\n",
       "        text-align: right;\n",
       "    }\n",
       "</style>\n",
       "<table border=\"1\" class=\"dataframe\">\n",
       "  <thead>\n",
       "    <tr style=\"text-align: right;\">\n",
       "      <th></th>\n",
       "      <th>label</th>\n",
       "      <th>review</th>\n",
       "    </tr>\n",
       "  </thead>\n",
       "  <tbody>\n",
       "    <tr>\n",
       "      <th>64557</th>\n",
       "      <td>0</td>\n",
       "      <td>笨人是因为他笨，所以别人影响不了他；最聪明的人是因为自己有思想，有见解，有中心主张，所以别人...</td>\n",
       "    </tr>\n",
       "    <tr>\n",
       "      <th>35509</th>\n",
       "      <td>0</td>\n",
       "      <td>如果不能自由的错，那也很难自由的对。希望-------民主、自由在中国的速度慢些，再慢些！！...</td>\n",
       "    </tr>\n",
       "    <tr>\n",
       "      <th>53555</th>\n",
       "      <td>0</td>\n",
       "      <td>漏动已被修复~ 连午后红茶都有漏洞了，要用360了小卖部午后红茶..买4支中4支阿.大家买就...</td>\n",
       "    </tr>\n",
       "  </tbody>\n",
       "</table>\n",
       "</div>"
      ],
      "text/plain": [
       "       label                                             review\n",
       "64557      0  笨人是因为他笨，所以别人影响不了他；最聪明的人是因为自己有思想，有见解，有中心主张，所以别人...\n",
       "35509      0  如果不能自由的错，那也很难自由的对。希望-------民主、自由在中国的速度慢些，再慢些！！...\n",
       "53555      0  漏动已被修复~ 连午后红茶都有漏洞了，要用360了小卖部午后红茶..买4支中4支阿.大家买就..."
      ]
     },
     "execution_count": 86,
     "metadata": {},
     "output_type": "execute_result"
    }
   ],
   "source": [
    "weibo_neg = pd.concat([weibo_1, weibo_2, weibo_3], axis=0,ignore_index =True,sort=True)\n",
    "weibo_neg.sample(3)"
   ]
  },
  {
   "cell_type": "code",
   "execution_count": 87,
   "metadata": {
    "scrolled": true
   },
   "outputs": [
    {
     "data": {
      "text/plain": [
       "label     162248\n",
       "review    162248\n",
       "dtype: int64"
      ]
     },
     "execution_count": 87,
     "metadata": {},
     "output_type": "execute_result"
    }
   ],
   "source": [
    "weibo_neg[weibo_neg['label'] == 0].count()"
   ]
  },
  {
   "cell_type": "code",
   "execution_count": 88,
   "metadata": {
    "scrolled": false
   },
   "outputs": [
    {
     "data": {
      "text/plain": [
       "label     True\n",
       "review    True\n",
       "dtype: bool"
      ]
     },
     "execution_count": 88,
     "metadata": {},
     "output_type": "execute_result"
    }
   ],
   "source": [
    "weibo_neg[weibo_neg['label'] == 0].count() == len(weibo_neg)"
   ]
  },
  {
   "cell_type": "code",
   "execution_count": 120,
   "metadata": {
    "scrolled": true
   },
   "outputs": [
    {
     "data": {
      "text/html": [
       "<div>\n",
       "<style scoped>\n",
       "    .dataframe tbody tr th:only-of-type {\n",
       "        vertical-align: middle;\n",
       "    }\n",
       "\n",
       "    .dataframe tbody tr th {\n",
       "        vertical-align: top;\n",
       "    }\n",
       "\n",
       "    .dataframe thead th {\n",
       "        text-align: right;\n",
       "    }\n",
       "</style>\n",
       "<table border=\"1\" class=\"dataframe\">\n",
       "  <thead>\n",
       "    <tr style=\"text-align: right;\">\n",
       "      <th></th>\n",
       "      <th>title</th>\n",
       "    </tr>\n",
       "  </thead>\n",
       "  <tbody>\n",
       "    <tr>\n",
       "      <th>0</th>\n",
       "      <td>﻿回复老农民的处女情结，原著里的女主很丰满滴，而且很为胸大烦恼滴，老三第一次背她过河被胸器压...</td>\n",
       "    </tr>\n",
       "    <tr>\n",
       "      <th>1</th>\n",
       "      <td>。今天才知道，原来世博不能谈“抄袭”，因爲 抄袭个案还真不少，不少当事人一肚子的无奈。</td>\n",
       "    </tr>\n",
       "    <tr>\n",
       "      <th>2</th>\n",
       "      <td>回复好吧，下次一起，今儿狗害得我们都没玩····不是么。我昨天明明说让你们叫我。在路上。狗是重点。</td>\n",
       "    </tr>\n",
       "    <tr>\n",
       "      <th>3</th>\n",
       "      <td>愛 面膜。。。。吼吼，分享有礼啦，我们将再抽取30名网友，赠送水蜜桃面膜，盒装的哦，一起参与...</td>\n",
       "    </tr>\n",
       "    <tr>\n",
       "      <th>4</th>\n",
       "      <td>没有希望的国家操！: 汽油涨价。。。自焚不起了: : : : : 不忍看，中国这什么，助纣为...</td>\n",
       "    </tr>\n",
       "  </tbody>\n",
       "</table>\n",
       "</div>"
      ],
      "text/plain": [
       "                                               title\n",
       "0  ﻿回复老农民的处女情结，原著里的女主很丰满滴，而且很为胸大烦恼滴，老三第一次背她过河被胸器压...\n",
       "1        。今天才知道，原来世博不能谈“抄袭”，因爲 抄袭个案还真不少，不少当事人一肚子的无奈。\n",
       "2  回复好吧，下次一起，今儿狗害得我们都没玩····不是么。我昨天明明说让你们叫我。在路上。狗是重点。\n",
       "3  愛 面膜。。。。吼吼，分享有礼啦，我们将再抽取30名网友，赠送水蜜桃面膜，盒装的哦，一起参与...\n",
       "4  没有希望的国家操！: 汽油涨价。。。自焚不起了: : : : : 不忍看，中国这什么，助纣为..."
      ]
     },
     "execution_count": 120,
     "metadata": {},
     "output_type": "execute_result"
    }
   ],
   "source": [
    "# weibo_neg = weibo_neg[['review', 'label']]\n",
    "# del weibo_neg['label']\n",
    "weibo_neg.columns=['title']\n",
    "weibo_neg.head()"
   ]
  },
  {
   "cell_type": "code",
   "execution_count": 97,
   "metadata": {},
   "outputs": [
    {
     "data": {
      "text/plain": [
       "review    162248\n",
       "dtype: int64"
      ]
     },
     "execution_count": 97,
     "metadata": {},
     "output_type": "execute_result"
    }
   ],
   "source": [
    "weibo_neg.count()"
   ]
  },
  {
   "cell_type": "code",
   "execution_count": 95,
   "metadata": {},
   "outputs": [],
   "source": [
    "weibo_neg.to_csv('weibo_neg.txt', index = False)"
   ]
  },
  {
   "cell_type": "code",
   "execution_count": 122,
   "metadata": {},
   "outputs": [
    {
     "data": {
      "text/html": [
       "<div>\n",
       "<style scoped>\n",
       "    .dataframe tbody tr th:only-of-type {\n",
       "        vertical-align: middle;\n",
       "    }\n",
       "\n",
       "    .dataframe tbody tr th {\n",
       "        vertical-align: top;\n",
       "    }\n",
       "\n",
       "    .dataframe thead th {\n",
       "        text-align: right;\n",
       "    }\n",
       "</style>\n",
       "<table border=\"1\" class=\"dataframe\">\n",
       "  <thead>\n",
       "    <tr style=\"text-align: right;\">\n",
       "      <th></th>\n",
       "      <th>title</th>\n",
       "    </tr>\n",
       "  </thead>\n",
       "  <tbody>\n",
       "    <tr>\n",
       "      <th>0</th>\n",
       "      <td>﻿啊呀呀！要死啦！么么么！只穿外套就好了，我认为里面那件很多余啊周小伦喜歡 你各種 五角星的...</td>\n",
       "    </tr>\n",
       "    <tr>\n",
       "      <th>1</th>\n",
       "      <td>嗯……既然大姚通知了……那我也表示下收到……姚，你知道吗？假如外星人入侵地球，只要摧毁我们的...</td>\n",
       "    </tr>\n",
       "    <tr>\n",
       "      <th>2</th>\n",
       "      <td>风格不一样嘛，都喜欢！最喜欢哪张？</td>\n",
       "    </tr>\n",
       "    <tr>\n",
       "      <th>3</th>\n",
       "      <td>好呀，试试D .I .Y .去死皮面膜1.将燕麦片加水中浸泡6小时，加入木瓜牛奶搅拌。2.放...</td>\n",
       "    </tr>\n",
       "    <tr>\n",
       "      <th>4</th>\n",
       "      <td>张老师，谢谢侬的信任！粉丝多少无所谓重在质地近日发现一个现象——他加了你关注，你回加后，他立...</td>\n",
       "    </tr>\n",
       "  </tbody>\n",
       "</table>\n",
       "</div>"
      ],
      "text/plain": [
       "                                               title\n",
       "0  ﻿啊呀呀！要死啦！么么么！只穿外套就好了，我认为里面那件很多余啊周小伦喜歡 你各種 五角星的...\n",
       "1  嗯……既然大姚通知了……那我也表示下收到……姚，你知道吗？假如外星人入侵地球，只要摧毁我们的...\n",
       "2                                  风格不一样嘛，都喜欢！最喜欢哪张？\n",
       "3  好呀，试试D .I .Y .去死皮面膜1.将燕麦片加水中浸泡6小时，加入木瓜牛奶搅拌。2.放...\n",
       "4  张老师，谢谢侬的信任！粉丝多少无所谓重在质地近日发现一个现象——他加了你关注，你回加后，他立..."
      ]
     },
     "execution_count": 122,
     "metadata": {},
     "output_type": "execute_result"
    }
   ],
   "source": [
    "# weibo_pos = weibo_0[['review', 'label']]\n",
    "# del weibo_pos['label']\n",
    "weibo_pos.columns=['title']\n",
    "weibo_pos.head()"
   ]
  },
  {
   "cell_type": "code",
   "execution_count": 100,
   "metadata": {},
   "outputs": [],
   "source": [
    "weibo_pos.to_csv('weibo_pos.txt', index = False)"
   ]
  },
  {
   "cell_type": "code",
   "execution_count": 91,
   "metadata": {
    "scrolled": true
   },
   "outputs": [
    {
     "data": {
      "text/html": [
       "<div>\n",
       "<style scoped>\n",
       "    .dataframe tbody tr th:only-of-type {\n",
       "        vertical-align: middle;\n",
       "    }\n",
       "\n",
       "    .dataframe tbody tr th {\n",
       "        vertical-align: top;\n",
       "    }\n",
       "\n",
       "    .dataframe thead th {\n",
       "        text-align: right;\n",
       "    }\n",
       "</style>\n",
       "<table border=\"1\" class=\"dataframe\">\n",
       "  <thead>\n",
       "    <tr style=\"text-align: right;\">\n",
       "      <th></th>\n",
       "      <th>review</th>\n",
       "      <th>label</th>\n",
       "    </tr>\n",
       "  </thead>\n",
       "  <tbody>\n",
       "    <tr>\n",
       "      <th>0</th>\n",
       "      <td>﻿啊呀呀！要死啦！么么么！只穿外套就好了，我认为里面那件很多余啊周小伦喜歡 你各種 五角星的...</td>\n",
       "      <td>1</td>\n",
       "    </tr>\n",
       "    <tr>\n",
       "      <th>1</th>\n",
       "      <td>嗯……既然大姚通知了……那我也表示下收到……姚，你知道吗？假如外星人入侵地球，只要摧毁我们的...</td>\n",
       "      <td>1</td>\n",
       "    </tr>\n",
       "    <tr>\n",
       "      <th>2</th>\n",
       "      <td>风格不一样嘛，都喜欢！最喜欢哪张？</td>\n",
       "      <td>1</td>\n",
       "    </tr>\n",
       "    <tr>\n",
       "      <th>3</th>\n",
       "      <td>好呀，试试D .I .Y .去死皮面膜1.将燕麦片加水中浸泡6小时，加入木瓜牛奶搅拌。2.放...</td>\n",
       "      <td>1</td>\n",
       "    </tr>\n",
       "    <tr>\n",
       "      <th>4</th>\n",
       "      <td>张老师，谢谢侬的信任！粉丝多少无所谓重在质地近日发现一个现象——他加了你关注，你回加后，他立...</td>\n",
       "      <td>1</td>\n",
       "    </tr>\n",
       "  </tbody>\n",
       "</table>\n",
       "</div>"
      ],
      "text/plain": [
       "                                              review  label\n",
       "0  ﻿啊呀呀！要死啦！么么么！只穿外套就好了，我认为里面那件很多余啊周小伦喜歡 你各種 五角星的...      1\n",
       "1  嗯……既然大姚通知了……那我也表示下收到……姚，你知道吗？假如外星人入侵地球，只要摧毁我们的...      1\n",
       "2                                  风格不一样嘛，都喜欢！最喜欢哪张？      1\n",
       "3  好呀，试试D .I .Y .去死皮面膜1.将燕麦片加水中浸泡6小时，加入木瓜牛奶搅拌。2.放...      1\n",
       "4  张老师，谢谢侬的信任！粉丝多少无所谓重在质地近日发现一个现象——他加了你关注，你回加后，他立...      1"
      ]
     },
     "execution_count": 91,
     "metadata": {},
     "output_type": "execute_result"
    }
   ],
   "source": [
    "# weibo = pd.concat([weibo_pos, weibo_neg], axis=0,ignore_index =True,sort=True)\n",
    "weibo = pd.concat([weibo_pos, weibo_neg], axis=0,sort=False)\n",
    "weibo.head()"
   ]
  },
  {
   "cell_type": "code",
   "execution_count": 92,
   "metadata": {
    "scrolled": false
   },
   "outputs": [
    {
     "data": {
      "text/plain": [
       "True"
      ]
     },
     "execution_count": 92,
     "metadata": {},
     "output_type": "execute_result"
    }
   ],
   "source": [
    "len(weibo_neg) + len(weibo_pos) == len(simpl)"
   ]
  },
  {
   "cell_type": "code",
   "execution_count": 93,
   "metadata": {},
   "outputs": [
    {
     "data": {
      "text/plain": [
       "review    361744\n",
       "label     361744\n",
       "dtype: int64"
      ]
     },
     "execution_count": 93,
     "metadata": {},
     "output_type": "execute_result"
    }
   ],
   "source": [
    "weibo.count()"
   ]
  },
  {
   "cell_type": "code",
   "execution_count": 177,
   "metadata": {},
   "outputs": [],
   "source": [
    "weibo.to_csv('weibo.txt', sep = '\\t', index = False)"
   ]
  },
  {
   "cell_type": "code",
   "execution_count": 158,
   "metadata": {
    "scrolled": true
   },
   "outputs": [
    {
     "name": "stdout",
     "output_type": "stream",
     "text": [
      "AirPassengers.csv             \u001b[34mnew2016zh\u001b[m\u001b[m\r\n",
      "bad-comment.txt               news_2016.txt\r\n",
      "bad.txt                       page.txt\r\n",
      "bank.csv                      ship.csv\r\n",
      "cctv_news.csv                 \u001b[31msimplifyweibo_4_moods.csv\u001b[m\u001b[m\r\n",
      "comment-szzs.csv              stock.csv\r\n",
      "finance_dict.txt              stop.txt\r\n",
      "food.csv                      szzs-result.csv\r\n",
      "get_labeled_data.ipynb        szzs-sentiment.csv\r\n",
      "good-comment.txt              szzs-sentiment2.csv\r\n",
      "good.txt                      szzs.csv\r\n",
      "history-szzs.csv              weibo_2019-05-19_12.10.38.txt\r\n",
      "house.csv                     weibo_2019-05-21_15.26.17.txt\r\n",
      "kdxf_news(1, 5).csv           weibo_2019-05-22_05.43.48.txt\r\n",
      "kdxf_news(1, 5).xlsx          \u001b[31mweibo_senti_100k.csv\u001b[m\u001b[m\r\n",
      "kdxf_news(6, 10).xlsx         xueqiu_kdxfposts.csv\r\n",
      "kdxf_news.xlsx                ~$kdxf_news(1, 5).xlsx\r\n",
      "neutral.txt\r\n"
     ]
    }
   ],
   "source": [
    "!ls"
   ]
  },
  {
   "cell_type": "code",
   "execution_count": null,
   "metadata": {},
   "outputs": [],
   "source": [
    "pwd"
   ]
  },
  {
   "cell_type": "code",
   "execution_count": 185,
   "metadata": {
    "scrolled": true
   },
   "outputs": [
    {
     "data": {
      "text/html": [
       "<div>\n",
       "<style scoped>\n",
       "    .dataframe tbody tr th:only-of-type {\n",
       "        vertical-align: middle;\n",
       "    }\n",
       "\n",
       "    .dataframe tbody tr th {\n",
       "        vertical-align: top;\n",
       "    }\n",
       "\n",
       "    .dataframe thead th {\n",
       "        text-align: right;\n",
       "    }\n",
       "</style>\n",
       "<table border=\"1\" class=\"dataframe\">\n",
       "  <thead>\n",
       "    <tr style=\"text-align: right;\">\n",
       "      <th></th>\n",
       "      <th>title</th>\n",
       "    </tr>\n",
       "  </thead>\n",
       "  <tbody>\n",
       "    <tr>\n",
       "      <th>0</th>\n",
       "      <td>四大报论再融资新政：维护中小股东利益</td>\n",
       "    </tr>\n",
       "    <tr>\n",
       "      <th>1</th>\n",
       "      <td>沪指收盘强势上涨逾1% 恒指创5个月以来新高</td>\n",
       "    </tr>\n",
       "    <tr>\n",
       "      <th>2</th>\n",
       "      <td>首批养老金权益类组合有望本周打款 最快将在本周买入股票</td>\n",
       "    </tr>\n",
       "    <tr>\n",
       "      <th>3</th>\n",
       "      <td>开盘涨停</td>\n",
       "    </tr>\n",
       "    <tr>\n",
       "      <th>4</th>\n",
       "      <td>好运来了都挡不住</td>\n",
       "    </tr>\n",
       "  </tbody>\n",
       "</table>\n",
       "</div>"
      ],
      "text/plain": [
       "                         title\n",
       "0           四大报论再融资新政：维护中小股东利益\n",
       "1       沪指收盘强势上涨逾1% 恒指创5个月以来新高\n",
       "2  首批养老金权益类组合有望本周打款 最快将在本周买入股票\n",
       "3                         开盘涨停\n",
       "4                     好运来了都挡不住"
      ]
     },
     "execution_count": 185,
     "metadata": {},
     "output_type": "execute_result"
    }
   ],
   "source": [
    "com_pos = pd.read_csv('good-comment.txt',sep='\\n',error_bad_lines=False, header = None, names = ['title'])\n",
    "com_pos.head()"
   ]
  },
  {
   "cell_type": "code",
   "execution_count": 188,
   "metadata": {
    "scrolled": false
   },
   "outputs": [
    {
     "data": {
      "text/html": [
       "<div>\n",
       "<style scoped>\n",
       "    .dataframe tbody tr th:only-of-type {\n",
       "        vertical-align: middle;\n",
       "    }\n",
       "\n",
       "    .dataframe tbody tr th {\n",
       "        vertical-align: top;\n",
       "    }\n",
       "\n",
       "    .dataframe thead th {\n",
       "        text-align: right;\n",
       "    }\n",
       "</style>\n",
       "<table border=\"1\" class=\"dataframe\">\n",
       "  <thead>\n",
       "    <tr style=\"text-align: right;\">\n",
       "      <th></th>\n",
       "      <th>title</th>\n",
       "      <th>label</th>\n",
       "    </tr>\n",
       "  </thead>\n",
       "  <tbody>\n",
       "    <tr>\n",
       "      <th>0</th>\n",
       "      <td>四大报论再融资新政：维护中小股东利益</td>\n",
       "      <td>1</td>\n",
       "    </tr>\n",
       "    <tr>\n",
       "      <th>1</th>\n",
       "      <td>沪指收盘强势上涨逾1% 恒指创5个月以来新高</td>\n",
       "      <td>1</td>\n",
       "    </tr>\n",
       "    <tr>\n",
       "      <th>2</th>\n",
       "      <td>首批养老金权益类组合有望本周打款 最快将在本周买入股票</td>\n",
       "      <td>1</td>\n",
       "    </tr>\n",
       "    <tr>\n",
       "      <th>3</th>\n",
       "      <td>开盘涨停</td>\n",
       "      <td>1</td>\n",
       "    </tr>\n",
       "    <tr>\n",
       "      <th>4</th>\n",
       "      <td>好运来了都挡不住</td>\n",
       "      <td>1</td>\n",
       "    </tr>\n",
       "  </tbody>\n",
       "</table>\n",
       "</div>"
      ],
      "text/plain": [
       "                         title  label\n",
       "0           四大报论再融资新政：维护中小股东利益      1\n",
       "1       沪指收盘强势上涨逾1% 恒指创5个月以来新高      1\n",
       "2  首批养老金权益类组合有望本周打款 最快将在本周买入股票      1\n",
       "3                         开盘涨停      1\n",
       "4                     好运来了都挡不住      1"
      ]
     },
     "execution_count": 188,
     "metadata": {},
     "output_type": "execute_result"
    }
   ],
   "source": [
    "label = np.ones(len(com_pos), dtype = np.int).tolist()\n",
    "com_pos['label'] = label\n",
    "com_pos.head()"
   ]
  },
  {
   "cell_type": "code",
   "execution_count": 189,
   "metadata": {},
   "outputs": [
    {
     "name": "stdout",
     "output_type": "stream",
     "text": [
      "AirPassengers.csv             news_2016.txt\r\n",
      "bad-comment.txt               page.txt\r\n",
      "bad.txt                       ship.csv\r\n",
      "bank.csv                      \u001b[31msimplifyweibo_4_moods.csv\u001b[m\u001b[m\r\n",
      "cctv_news.csv                 stock.csv\r\n",
      "comment-szzs.csv              stop.txt\r\n",
      "finance_dict.txt              szzs-result.csv\r\n",
      "food.csv                      szzs-sentiment.csv\r\n",
      "get_labeled_data.ipynb        szzs-sentiment2.csv\r\n",
      "good-comment.txt              szzs.csv\r\n",
      "good.txt                      weibo.txt\r\n",
      "history-szzs.csv              weibo_2019-05-19_12.10.38.txt\r\n",
      "house.csv                     weibo_2019-05-21_15.26.17.txt\r\n",
      "kdxf_news(1, 5).csv           weibo_2019-05-22_05.43.48.txt\r\n",
      "kdxf_news(1, 5).xlsx          weibo_neg.txt\r\n",
      "kdxf_news(6, 10).xlsx         weibo_pos.txt\r\n",
      "kdxf_news.xlsx                \u001b[31mweibo_senti_100k.csv\u001b[m\u001b[m\r\n",
      "neutral.txt                   xueqiu_kdxfposts.csv\r\n",
      "\u001b[34mnew2016zh\u001b[m\u001b[m                     ~$kdxf_news(1, 5).xlsx\r\n"
     ]
    }
   ],
   "source": [
    "!ls"
   ]
  },
  {
   "cell_type": "code",
   "execution_count": 223,
   "metadata": {
    "scrolled": true
   },
   "outputs": [
    {
     "data": {
      "text/html": [
       "<div>\n",
       "<style scoped>\n",
       "    .dataframe tbody tr th:only-of-type {\n",
       "        vertical-align: middle;\n",
       "    }\n",
       "\n",
       "    .dataframe tbody tr th {\n",
       "        vertical-align: top;\n",
       "    }\n",
       "\n",
       "    .dataframe thead th {\n",
       "        text-align: right;\n",
       "    }\n",
       "</style>\n",
       "<table border=\"1\" class=\"dataframe\">\n",
       "  <thead>\n",
       "    <tr style=\"text-align: right;\">\n",
       "      <th></th>\n",
       "      <th>content</th>\n",
       "    </tr>\n",
       "  </thead>\n",
       "  <tbody>\n",
       "    <tr>\n",
       "      <th>0</th>\n",
       "      <td>换手率太低</td>\n",
       "    </tr>\n",
       "    <tr>\n",
       "      <th>1</th>\n",
       "      <td>两市成交量环比有所萎缩</td>\n",
       "    </tr>\n",
       "    <tr>\n",
       "      <th>2</th>\n",
       "      <td>大盘要跳水，一个涨停是事件刺激，不可能长久</td>\n",
       "    </tr>\n",
       "    <tr>\n",
       "      <th>3</th>\n",
       "      <td>天天跌，你都跌了一年了</td>\n",
       "    </tr>\n",
       "    <tr>\n",
       "      <th>4</th>\n",
       "      <td>这狗链子股不行，还他妈军工呢？象军母</td>\n",
       "    </tr>\n",
       "  </tbody>\n",
       "</table>\n",
       "</div>"
      ],
      "text/plain": [
       "                 content\n",
       "0                  换手率太低\n",
       "1            两市成交量环比有所萎缩\n",
       "2  大盘要跳水，一个涨停是事件刺激，不可能长久\n",
       "3            天天跌，你都跌了一年了\n",
       "4     这狗链子股不行，还他妈军工呢？象军母"
      ]
     },
     "execution_count": 223,
     "metadata": {},
     "output_type": "execute_result"
    }
   ],
   "source": [
    "com_neg = pd.read_csv('bad-comment.txt',sep='\\n',error_bad_lines=False, header = None, names = ['content'])\n",
    "com_neg.head()"
   ]
  },
  {
   "cell_type": "code",
   "execution_count": 224,
   "metadata": {
    "scrolled": true
   },
   "outputs": [
    {
     "data": {
      "text/html": [
       "<div>\n",
       "<style scoped>\n",
       "    .dataframe tbody tr th:only-of-type {\n",
       "        vertical-align: middle;\n",
       "    }\n",
       "\n",
       "    .dataframe tbody tr th {\n",
       "        vertical-align: top;\n",
       "    }\n",
       "\n",
       "    .dataframe thead th {\n",
       "        text-align: right;\n",
       "    }\n",
       "</style>\n",
       "<table border=\"1\" class=\"dataframe\">\n",
       "  <thead>\n",
       "    <tr style=\"text-align: right;\">\n",
       "      <th></th>\n",
       "      <th>content</th>\n",
       "      <th>label</th>\n",
       "    </tr>\n",
       "  </thead>\n",
       "  <tbody>\n",
       "    <tr>\n",
       "      <th>0</th>\n",
       "      <td>换手率太低</td>\n",
       "      <td>0</td>\n",
       "    </tr>\n",
       "    <tr>\n",
       "      <th>1</th>\n",
       "      <td>两市成交量环比有所萎缩</td>\n",
       "      <td>0</td>\n",
       "    </tr>\n",
       "    <tr>\n",
       "      <th>2</th>\n",
       "      <td>大盘要跳水，一个涨停是事件刺激，不可能长久</td>\n",
       "      <td>0</td>\n",
       "    </tr>\n",
       "    <tr>\n",
       "      <th>3</th>\n",
       "      <td>天天跌，你都跌了一年了</td>\n",
       "      <td>0</td>\n",
       "    </tr>\n",
       "    <tr>\n",
       "      <th>4</th>\n",
       "      <td>这狗链子股不行，还他妈军工呢？象军母</td>\n",
       "      <td>0</td>\n",
       "    </tr>\n",
       "  </tbody>\n",
       "</table>\n",
       "</div>"
      ],
      "text/plain": [
       "                 content  label\n",
       "0                  换手率太低      0\n",
       "1            两市成交量环比有所萎缩      0\n",
       "2  大盘要跳水，一个涨停是事件刺激，不可能长久      0\n",
       "3            天天跌，你都跌了一年了      0\n",
       "4     这狗链子股不行，还他妈军工呢？象军母      0"
      ]
     },
     "execution_count": 224,
     "metadata": {},
     "output_type": "execute_result"
    }
   ],
   "source": [
    "label = np.zeros(len(com_neg), dtype = np.int).tolist()\n",
    "com_neg['label'] = label\n",
    "com_neg.head()"
   ]
  },
  {
   "cell_type": "code",
   "execution_count": 230,
   "metadata": {},
   "outputs": [
    {
     "data": {
      "text/plain": [
       "content    2014\n",
       "label      2014\n",
       "dtype: int64"
      ]
     },
     "execution_count": 230,
     "metadata": {},
     "output_type": "execute_result"
    }
   ],
   "source": [
    "com_neg.count()"
   ]
  },
  {
   "cell_type": "code",
   "execution_count": 250,
   "metadata": {
    "scrolled": true
   },
   "outputs": [
    {
     "data": {
      "text/html": [
       "<div>\n",
       "<style scoped>\n",
       "    .dataframe tbody tr th:only-of-type {\n",
       "        vertical-align: middle;\n",
       "    }\n",
       "\n",
       "    .dataframe tbody tr th {\n",
       "        vertical-align: top;\n",
       "    }\n",
       "\n",
       "    .dataframe thead th {\n",
       "        text-align: right;\n",
       "    }\n",
       "</style>\n",
       "<table border=\"1\" class=\"dataframe\">\n",
       "  <thead>\n",
       "    <tr style=\"text-align: right;\">\n",
       "      <th></th>\n",
       "      <th>content</th>\n",
       "    </tr>\n",
       "  </thead>\n",
       "  <tbody>\n",
       "    <tr>\n",
       "      <th>1338</th>\n",
       "      <td>利多</td>\n",
       "    </tr>\n",
       "    <tr>\n",
       "      <th>1339</th>\n",
       "      <td>蓝筹股</td>\n",
       "    </tr>\n",
       "    <tr>\n",
       "      <th>1340</th>\n",
       "      <td>牛</td>\n",
       "    </tr>\n",
       "    <tr>\n",
       "      <th>1341</th>\n",
       "      <td>牛逼</td>\n",
       "    </tr>\n",
       "    <tr>\n",
       "      <th>1342</th>\n",
       "      <td>牛市</td>\n",
       "    </tr>\n",
       "  </tbody>\n",
       "</table>\n",
       "</div>"
      ],
      "text/plain": [
       "     content\n",
       "1338      利多\n",
       "1339     蓝筹股\n",
       "1340       牛\n",
       "1341      牛逼\n",
       "1342      牛市"
      ]
     },
     "execution_count": 250,
     "metadata": {},
     "output_type": "execute_result"
    }
   ],
   "source": [
    "com_pos = pd.read_csv('good-comment.txt',sep='\\n',error_bad_lines=False, header = None, names = ['content'])\n",
    "com_pos.tail()"
   ]
  },
  {
   "cell_type": "code",
   "execution_count": 251,
   "metadata": {},
   "outputs": [],
   "source": [
    "com_pos.loc[len(com_pos), 'content'] = '吃肉'"
   ]
  },
  {
   "cell_type": "code",
   "execution_count": 252,
   "metadata": {
    "scrolled": false
   },
   "outputs": [
    {
     "data": {
      "text/html": [
       "<div>\n",
       "<style scoped>\n",
       "    .dataframe tbody tr th:only-of-type {\n",
       "        vertical-align: middle;\n",
       "    }\n",
       "\n",
       "    .dataframe tbody tr th {\n",
       "        vertical-align: top;\n",
       "    }\n",
       "\n",
       "    .dataframe thead th {\n",
       "        text-align: right;\n",
       "    }\n",
       "</style>\n",
       "<table border=\"1\" class=\"dataframe\">\n",
       "  <thead>\n",
       "    <tr style=\"text-align: right;\">\n",
       "      <th></th>\n",
       "      <th>content</th>\n",
       "    </tr>\n",
       "  </thead>\n",
       "  <tbody>\n",
       "    <tr>\n",
       "      <th>1339</th>\n",
       "      <td>蓝筹股</td>\n",
       "    </tr>\n",
       "    <tr>\n",
       "      <th>1340</th>\n",
       "      <td>牛</td>\n",
       "    </tr>\n",
       "    <tr>\n",
       "      <th>1341</th>\n",
       "      <td>牛逼</td>\n",
       "    </tr>\n",
       "    <tr>\n",
       "      <th>1342</th>\n",
       "      <td>牛市</td>\n",
       "    </tr>\n",
       "    <tr>\n",
       "      <th>1343</th>\n",
       "      <td>吃肉</td>\n",
       "    </tr>\n",
       "  </tbody>\n",
       "</table>\n",
       "</div>"
      ],
      "text/plain": [
       "     content\n",
       "1339     蓝筹股\n",
       "1340       牛\n",
       "1341      牛逼\n",
       "1342      牛市\n",
       "1343      吃肉"
      ]
     },
     "execution_count": 252,
     "metadata": {},
     "output_type": "execute_result"
    }
   ],
   "source": [
    "com_pos.tail()"
   ]
  },
  {
   "cell_type": "code",
   "execution_count": 253,
   "metadata": {},
   "outputs": [
    {
     "data": {
      "text/html": [
       "<div>\n",
       "<style scoped>\n",
       "    .dataframe tbody tr th:only-of-type {\n",
       "        vertical-align: middle;\n",
       "    }\n",
       "\n",
       "    .dataframe tbody tr th {\n",
       "        vertical-align: top;\n",
       "    }\n",
       "\n",
       "    .dataframe thead th {\n",
       "        text-align: right;\n",
       "    }\n",
       "</style>\n",
       "<table border=\"1\" class=\"dataframe\">\n",
       "  <thead>\n",
       "    <tr style=\"text-align: right;\">\n",
       "      <th></th>\n",
       "      <th>content</th>\n",
       "      <th>label</th>\n",
       "    </tr>\n",
       "  </thead>\n",
       "  <tbody>\n",
       "    <tr>\n",
       "      <th>1339</th>\n",
       "      <td>蓝筹股</td>\n",
       "      <td>1</td>\n",
       "    </tr>\n",
       "    <tr>\n",
       "      <th>1340</th>\n",
       "      <td>牛</td>\n",
       "      <td>1</td>\n",
       "    </tr>\n",
       "    <tr>\n",
       "      <th>1341</th>\n",
       "      <td>牛逼</td>\n",
       "      <td>1</td>\n",
       "    </tr>\n",
       "    <tr>\n",
       "      <th>1342</th>\n",
       "      <td>牛市</td>\n",
       "      <td>1</td>\n",
       "    </tr>\n",
       "    <tr>\n",
       "      <th>1343</th>\n",
       "      <td>吃肉</td>\n",
       "      <td>1</td>\n",
       "    </tr>\n",
       "  </tbody>\n",
       "</table>\n",
       "</div>"
      ],
      "text/plain": [
       "     content  label\n",
       "1339     蓝筹股      1\n",
       "1340       牛      1\n",
       "1341      牛逼      1\n",
       "1342      牛市      1\n",
       "1343      吃肉      1"
      ]
     },
     "execution_count": 253,
     "metadata": {},
     "output_type": "execute_result"
    }
   ],
   "source": [
    "label_pos = np.ones(len(com_pos), dtype = np.int).tolist()\n",
    "com_pos['label'] = label_pos\n",
    "com_pos.tail()"
   ]
  },
  {
   "cell_type": "code",
   "execution_count": 254,
   "metadata": {},
   "outputs": [
    {
     "data": {
      "text/plain": [
       "content    1344\n",
       "label      1344\n",
       "dtype: int64"
      ]
     },
     "execution_count": 254,
     "metadata": {},
     "output_type": "execute_result"
    }
   ],
   "source": [
    "com_pos.count()"
   ]
  },
  {
   "cell_type": "code",
   "execution_count": 101,
   "metadata": {},
   "outputs": [
    {
     "data": {
      "text/html": [
       "<div>\n",
       "<style scoped>\n",
       "    .dataframe tbody tr th:only-of-type {\n",
       "        vertical-align: middle;\n",
       "    }\n",
       "\n",
       "    .dataframe tbody tr th {\n",
       "        vertical-align: top;\n",
       "    }\n",
       "\n",
       "    .dataframe thead th {\n",
       "        text-align: right;\n",
       "    }\n",
       "</style>\n",
       "<table border=\"1\" class=\"dataframe\">\n",
       "  <thead>\n",
       "    <tr style=\"text-align: right;\">\n",
       "      <th></th>\n",
       "      <th>title</th>\n",
       "      <th>content</th>\n",
       "      <th>date</th>\n",
       "      <th>label</th>\n",
       "    </tr>\n",
       "  </thead>\n",
       "  <tbody>\n",
       "    <tr>\n",
       "      <th>0</th>\n",
       "      <td>科大讯飞今天人气也上来了，接下来会连续涨停！！！</td>\n",
       "      <td>科大讯飞今天人气也上来了，接下来会连续涨停！！！</td>\n",
       "      <td>2020-03-03</td>\n",
       "      <td>1.0</td>\n",
       "    </tr>\n",
       "    <tr>\n",
       "      <th>1</th>\n",
       "      <td>快买呀，今天不买，明天买不到啦</td>\n",
       "      <td>快买呀，今天不买，明天买不到啦</td>\n",
       "      <td>2020-03-03</td>\n",
       "      <td>1.0</td>\n",
       "    </tr>\n",
       "    <tr>\n",
       "      <th>2</th>\n",
       "      <td>坚持住，好股不怕洗</td>\n",
       "      <td>坚持住，好股不怕洗</td>\n",
       "      <td>2020-03-03</td>\n",
       "      <td>1.0</td>\n",
       "    </tr>\n",
       "    <tr>\n",
       "      <th>3</th>\n",
       "      <td>狗真多，一直不停的叫多，骗散户</td>\n",
       "      <td>狗真多，一直不停的叫多，骗散户</td>\n",
       "      <td>2020-03-03</td>\n",
       "      <td>0.0</td>\n",
       "    </tr>\n",
       "    <tr>\n",
       "      <th>4</th>\n",
       "      <td>还好涨停我出货了，明天可以低价接回来了[胜利]</td>\n",
       "      <td>还好涨停我出货了，明天可以低价接回来了</td>\n",
       "      <td>2020-03-03</td>\n",
       "      <td>1.0</td>\n",
       "    </tr>\n",
       "  </tbody>\n",
       "</table>\n",
       "</div>"
      ],
      "text/plain": [
       "                      title                   content        date  label\n",
       "0  科大讯飞今天人气也上来了，接下来会连续涨停！！！  科大讯飞今天人气也上来了，接下来会连续涨停！！！  2020-03-03    1.0\n",
       "1           快买呀，今天不买，明天买不到啦           快买呀，今天不买，明天买不到啦  2020-03-03    1.0\n",
       "2                 坚持住，好股不怕洗                 坚持住，好股不怕洗  2020-03-03    1.0\n",
       "3           狗真多，一直不停的叫多，骗散户           狗真多，一直不停的叫多，骗散户  2020-03-03    0.0\n",
       "4   还好涨停我出货了，明天可以低价接回来了[胜利]       还好涨停我出货了，明天可以低价接回来了  2020-03-03    1.0"
      ]
     },
     "execution_count": 101,
     "metadata": {},
     "output_type": "execute_result"
    }
   ],
   "source": [
    "kdxf_label = pd.read_csv('kdxf_news_label.csv', header = 1)\n",
    "kdxf_label = kdxf_label[['title', 'content', 'date', 'label']]\n",
    "kdxf_label.head()"
   ]
  },
  {
   "cell_type": "code",
   "execution_count": 267,
   "metadata": {},
   "outputs": [
    {
     "data": {
      "text/plain": [
       "title      731\n",
       "content    731\n",
       "date       731\n",
       "label      731\n",
       "dtype: int64"
      ]
     },
     "execution_count": 267,
     "metadata": {},
     "output_type": "execute_result"
    }
   ],
   "source": [
    "kdxf_label.count()"
   ]
  },
  {
   "cell_type": "code",
   "execution_count": 106,
   "metadata": {},
   "outputs": [
    {
     "data": {
      "text/html": [
       "<div>\n",
       "<style scoped>\n",
       "    .dataframe tbody tr th:only-of-type {\n",
       "        vertical-align: middle;\n",
       "    }\n",
       "\n",
       "    .dataframe tbody tr th {\n",
       "        vertical-align: top;\n",
       "    }\n",
       "\n",
       "    .dataframe thead th {\n",
       "        text-align: right;\n",
       "    }\n",
       "</style>\n",
       "<table border=\"1\" class=\"dataframe\">\n",
       "  <thead>\n",
       "    <tr style=\"text-align: right;\">\n",
       "      <th></th>\n",
       "      <th>title</th>\n",
       "      <th>content</th>\n",
       "      <th>date</th>\n",
       "      <th>label</th>\n",
       "    </tr>\n",
       "  </thead>\n",
       "  <tbody>\n",
       "    <tr>\n",
       "      <th>3</th>\n",
       "      <td>狗真多，一直不停的叫多，骗散户</td>\n",
       "      <td>狗真多，一直不停的叫多，骗散户</td>\n",
       "      <td>2020-03-03</td>\n",
       "      <td>0.0</td>\n",
       "    </tr>\n",
       "    <tr>\n",
       "      <th>9</th>\n",
       "      <td>明天跌停[大笑]</td>\n",
       "      <td>明天跌停[大笑]</td>\n",
       "      <td>2020-03-03</td>\n",
       "      <td>0.0</td>\n",
       "    </tr>\n",
       "    <tr>\n",
       "      <th>11</th>\n",
       "      <td>真笑了，涨停板的时候有说二十个板的。估计明天跌停板！资金跑了！</td>\n",
       "      <td>真笑了，涨停板的时候有说二十个板的。估计明天跌停板！资金跑了！</td>\n",
       "      <td>2020-03-03</td>\n",
       "      <td>0.0</td>\n",
       "    </tr>\n",
       "    <tr>\n",
       "      <th>12</th>\n",
       "      <td>明天窝里杀</td>\n",
       "      <td>明天窝里杀</td>\n",
       "      <td>2020-03-03</td>\n",
       "      <td>0.0</td>\n",
       "    </tr>\n",
       "    <tr>\n",
       "      <th>14</th>\n",
       "      <td>成功洗出</td>\n",
       "      <td>成功洗出</td>\n",
       "      <td>2020-03-03</td>\n",
       "      <td>0.0</td>\n",
       "    </tr>\n",
       "  </tbody>\n",
       "</table>\n",
       "</div>"
      ],
      "text/plain": [
       "                              title                          content  \\\n",
       "3                   狗真多，一直不停的叫多，骗散户                  狗真多，一直不停的叫多，骗散户   \n",
       "9                          明天跌停[大笑]                         明天跌停[大笑]   \n",
       "11  真笑了，涨停板的时候有说二十个板的。估计明天跌停板！资金跑了！  真笑了，涨停板的时候有说二十个板的。估计明天跌停板！资金跑了！   \n",
       "12                            明天窝里杀                            明天窝里杀   \n",
       "14                             成功洗出                             成功洗出   \n",
       "\n",
       "          date  label  \n",
       "3   2020-03-03    0.0  \n",
       "9   2020-03-03    0.0  \n",
       "11  2020-03-03    0.0  \n",
       "12  2020-03-03    0.0  \n",
       "14  2020-03-03    0.0  "
      ]
     },
     "execution_count": 106,
     "metadata": {},
     "output_type": "execute_result"
    }
   ],
   "source": [
    "kdxf_neg = kdxf_label[kdxf_label['label'] == 0.0]\n",
    "kdxf_neg.head()"
   ]
  },
  {
   "cell_type": "code",
   "execution_count": 108,
   "metadata": {},
   "outputs": [
    {
     "name": "stderr",
     "output_type": "stream",
     "text": [
      "/Users/cheriehe/anaconda3/lib/python3.7/site-packages/ipykernel_launcher.py:1: FutureWarning: The signature of `Series.to_csv` was aligned to that of `DataFrame.to_csv`, and argument 'header' will change its default value from False to True: please pass an explicit value to suppress this warning.\n",
      "  \"\"\"Entry point for launching an IPython kernel.\n"
     ]
    }
   ],
   "source": [
    "kdxf_neg['title'].to_csv('kdxf_neg.txt',index=False)"
   ]
  },
  {
   "cell_type": "code",
   "execution_count": 217,
   "metadata": {
    "scrolled": true
   },
   "outputs": [
    {
     "name": "stderr",
     "output_type": "stream",
     "text": [
      "/Users/cheriehe/anaconda3/lib/python3.7/site-packages/ipykernel_launcher.py:2: SettingWithCopyWarning: \n",
      "A value is trying to be set on a copy of a slice from a DataFrame.\n",
      "Try using .loc[row_indexer,col_indexer] = value instead\n",
      "\n",
      "See the caveats in the documentation: http://pandas.pydata.org/pandas-docs/stable/indexing.html#indexing-view-versus-copy\n",
      "  \n"
     ]
    },
    {
     "data": {
      "text/html": [
       "<div>\n",
       "<style scoped>\n",
       "    .dataframe tbody tr th:only-of-type {\n",
       "        vertical-align: middle;\n",
       "    }\n",
       "\n",
       "    .dataframe tbody tr th {\n",
       "        vertical-align: top;\n",
       "    }\n",
       "\n",
       "    .dataframe thead th {\n",
       "        text-align: right;\n",
       "    }\n",
       "</style>\n",
       "<table border=\"1\" class=\"dataframe\">\n",
       "  <thead>\n",
       "    <tr style=\"text-align: right;\">\n",
       "      <th></th>\n",
       "      <th>title</th>\n",
       "      <th>content</th>\n",
       "      <th>date</th>\n",
       "      <th>label</th>\n",
       "    </tr>\n",
       "  </thead>\n",
       "  <tbody>\n",
       "    <tr>\n",
       "      <th>0</th>\n",
       "      <td>科大讯飞今天人气也上来了，接下来会连续涨停！！！</td>\n",
       "      <td>科大讯飞今天人气也上来了，接下来会连续涨停！！！</td>\n",
       "      <td>2020-03-03</td>\n",
       "      <td>1</td>\n",
       "    </tr>\n",
       "    <tr>\n",
       "      <th>1</th>\n",
       "      <td>快买呀，今天不买，明天买不到啦</td>\n",
       "      <td>快买呀，今天不买，明天买不到啦</td>\n",
       "      <td>2020-03-03</td>\n",
       "      <td>1</td>\n",
       "    </tr>\n",
       "    <tr>\n",
       "      <th>2</th>\n",
       "      <td>坚持住，好股不怕洗</td>\n",
       "      <td>坚持住，好股不怕洗</td>\n",
       "      <td>2020-03-03</td>\n",
       "      <td>1</td>\n",
       "    </tr>\n",
       "    <tr>\n",
       "      <th>4</th>\n",
       "      <td>还好涨停我出货了，明天可以低价接回来了[胜利]</td>\n",
       "      <td>还好涨停我出货了，明天可以低价接回来了</td>\n",
       "      <td>2020-03-03</td>\n",
       "      <td>1</td>\n",
       "    </tr>\n",
       "    <tr>\n",
       "      <th>5</th>\n",
       "      <td>这庄不错，给上车机会，明天还能涨！</td>\n",
       "      <td>这庄不错，给上车机会，明天还能涨！</td>\n",
       "      <td>2020-03-03</td>\n",
       "      <td>1</td>\n",
       "    </tr>\n",
       "  </tbody>\n",
       "</table>\n",
       "</div>"
      ],
      "text/plain": [
       "                      title                   content        date  label\n",
       "0  科大讯飞今天人气也上来了，接下来会连续涨停！！！  科大讯飞今天人气也上来了，接下来会连续涨停！！！  2020-03-03      1\n",
       "1           快买呀，今天不买，明天买不到啦           快买呀，今天不买，明天买不到啦  2020-03-03      1\n",
       "2                 坚持住，好股不怕洗                 坚持住，好股不怕洗  2020-03-03      1\n",
       "4   还好涨停我出货了，明天可以低价接回来了[胜利]       还好涨停我出货了，明天可以低价接回来了  2020-03-03      1\n",
       "5         这庄不错，给上车机会，明天还能涨！         这庄不错，给上车机会，明天还能涨！  2020-03-03      1"
      ]
     },
     "execution_count": 217,
     "metadata": {},
     "output_type": "execute_result"
    }
   ],
   "source": [
    "label = np.ones(len(kdxf_neg), dtype = np.int)\n",
    "kdxf_neg['label'] = label\n",
    "kdxf_neg.head()"
   ]
  },
  {
   "cell_type": "code",
   "execution_count": 109,
   "metadata": {},
   "outputs": [
    {
     "data": {
      "text/html": [
       "<div>\n",
       "<style scoped>\n",
       "    .dataframe tbody tr th:only-of-type {\n",
       "        vertical-align: middle;\n",
       "    }\n",
       "\n",
       "    .dataframe tbody tr th {\n",
       "        vertical-align: top;\n",
       "    }\n",
       "\n",
       "    .dataframe thead th {\n",
       "        text-align: right;\n",
       "    }\n",
       "</style>\n",
       "<table border=\"1\" class=\"dataframe\">\n",
       "  <thead>\n",
       "    <tr style=\"text-align: right;\">\n",
       "      <th></th>\n",
       "      <th>title</th>\n",
       "      <th>content</th>\n",
       "      <th>date</th>\n",
       "      <th>label</th>\n",
       "    </tr>\n",
       "  </thead>\n",
       "  <tbody>\n",
       "    <tr>\n",
       "      <th>0</th>\n",
       "      <td>科大讯飞今天人气也上来了，接下来会连续涨停！！！</td>\n",
       "      <td>科大讯飞今天人气也上来了，接下来会连续涨停！！！</td>\n",
       "      <td>2020-03-03</td>\n",
       "      <td>1.0</td>\n",
       "    </tr>\n",
       "    <tr>\n",
       "      <th>1</th>\n",
       "      <td>快买呀，今天不买，明天买不到啦</td>\n",
       "      <td>快买呀，今天不买，明天买不到啦</td>\n",
       "      <td>2020-03-03</td>\n",
       "      <td>1.0</td>\n",
       "    </tr>\n",
       "    <tr>\n",
       "      <th>2</th>\n",
       "      <td>坚持住，好股不怕洗</td>\n",
       "      <td>坚持住，好股不怕洗</td>\n",
       "      <td>2020-03-03</td>\n",
       "      <td>1.0</td>\n",
       "    </tr>\n",
       "    <tr>\n",
       "      <th>4</th>\n",
       "      <td>还好涨停我出货了，明天可以低价接回来了[胜利]</td>\n",
       "      <td>还好涨停我出货了，明天可以低价接回来了</td>\n",
       "      <td>2020-03-03</td>\n",
       "      <td>1.0</td>\n",
       "    </tr>\n",
       "    <tr>\n",
       "      <th>5</th>\n",
       "      <td>这庄不错，给上车机会，明天还能涨！</td>\n",
       "      <td>这庄不错，给上车机会，明天还能涨！</td>\n",
       "      <td>2020-03-03</td>\n",
       "      <td>1.0</td>\n",
       "    </tr>\n",
       "  </tbody>\n",
       "</table>\n",
       "</div>"
      ],
      "text/plain": [
       "                      title                   content        date  label\n",
       "0  科大讯飞今天人气也上来了，接下来会连续涨停！！！  科大讯飞今天人气也上来了，接下来会连续涨停！！！  2020-03-03    1.0\n",
       "1           快买呀，今天不买，明天买不到啦           快买呀，今天不买，明天买不到啦  2020-03-03    1.0\n",
       "2                 坚持住，好股不怕洗                 坚持住，好股不怕洗  2020-03-03    1.0\n",
       "4   还好涨停我出货了，明天可以低价接回来了[胜利]       还好涨停我出货了，明天可以低价接回来了  2020-03-03    1.0\n",
       "5         这庄不错，给上车机会，明天还能涨！         这庄不错，给上车机会，明天还能涨！  2020-03-03    1.0"
      ]
     },
     "execution_count": 109,
     "metadata": {},
     "output_type": "execute_result"
    }
   ],
   "source": [
    "kdxf_pos = kdxf_label[kdxf_label['label'] == 1.0]\n",
    "kdxf_pos.head()"
   ]
  },
  {
   "cell_type": "code",
   "execution_count": 115,
   "metadata": {},
   "outputs": [
    {
     "data": {
      "text/plain": [
       "False"
      ]
     },
     "execution_count": 115,
     "metadata": {},
     "output_type": "execute_result"
    }
   ],
   "source": [
    "kdxf_pos['content'].isnull().any()"
   ]
  },
  {
   "cell_type": "code",
   "execution_count": 110,
   "metadata": {},
   "outputs": [
    {
     "name": "stderr",
     "output_type": "stream",
     "text": [
      "/Users/cheriehe/anaconda3/lib/python3.7/site-packages/ipykernel_launcher.py:2: SettingWithCopyWarning: \n",
      "A value is trying to be set on a copy of a slice from a DataFrame.\n",
      "Try using .loc[row_indexer,col_indexer] = value instead\n",
      "\n",
      "See the caveats in the documentation: http://pandas.pydata.org/pandas-docs/stable/indexing.html#indexing-view-versus-copy\n",
      "  \n"
     ]
    },
    {
     "data": {
      "text/html": [
       "<div>\n",
       "<style scoped>\n",
       "    .dataframe tbody tr th:only-of-type {\n",
       "        vertical-align: middle;\n",
       "    }\n",
       "\n",
       "    .dataframe tbody tr th {\n",
       "        vertical-align: top;\n",
       "    }\n",
       "\n",
       "    .dataframe thead th {\n",
       "        text-align: right;\n",
       "    }\n",
       "</style>\n",
       "<table border=\"1\" class=\"dataframe\">\n",
       "  <thead>\n",
       "    <tr style=\"text-align: right;\">\n",
       "      <th></th>\n",
       "      <th>title</th>\n",
       "      <th>content</th>\n",
       "      <th>date</th>\n",
       "      <th>label</th>\n",
       "    </tr>\n",
       "  </thead>\n",
       "  <tbody>\n",
       "    <tr>\n",
       "      <th>0</th>\n",
       "      <td>科大讯飞今天人气也上来了，接下来会连续涨停！！！</td>\n",
       "      <td>科大讯飞今天人气也上来了，接下来会连续涨停！！！</td>\n",
       "      <td>2020-03-03</td>\n",
       "      <td>1</td>\n",
       "    </tr>\n",
       "    <tr>\n",
       "      <th>1</th>\n",
       "      <td>快买呀，今天不买，明天买不到啦</td>\n",
       "      <td>快买呀，今天不买，明天买不到啦</td>\n",
       "      <td>2020-03-03</td>\n",
       "      <td>1</td>\n",
       "    </tr>\n",
       "    <tr>\n",
       "      <th>2</th>\n",
       "      <td>坚持住，好股不怕洗</td>\n",
       "      <td>坚持住，好股不怕洗</td>\n",
       "      <td>2020-03-03</td>\n",
       "      <td>1</td>\n",
       "    </tr>\n",
       "    <tr>\n",
       "      <th>4</th>\n",
       "      <td>还好涨停我出货了，明天可以低价接回来了[胜利]</td>\n",
       "      <td>还好涨停我出货了，明天可以低价接回来了</td>\n",
       "      <td>2020-03-03</td>\n",
       "      <td>1</td>\n",
       "    </tr>\n",
       "    <tr>\n",
       "      <th>5</th>\n",
       "      <td>这庄不错，给上车机会，明天还能涨！</td>\n",
       "      <td>这庄不错，给上车机会，明天还能涨！</td>\n",
       "      <td>2020-03-03</td>\n",
       "      <td>1</td>\n",
       "    </tr>\n",
       "  </tbody>\n",
       "</table>\n",
       "</div>"
      ],
      "text/plain": [
       "                      title                   content        date  label\n",
       "0  科大讯飞今天人气也上来了，接下来会连续涨停！！！  科大讯飞今天人气也上来了，接下来会连续涨停！！！  2020-03-03      1\n",
       "1           快买呀，今天不买，明天买不到啦           快买呀，今天不买，明天买不到啦  2020-03-03      1\n",
       "2                 坚持住，好股不怕洗                 坚持住，好股不怕洗  2020-03-03      1\n",
       "4   还好涨停我出货了，明天可以低价接回来了[胜利]       还好涨停我出货了，明天可以低价接回来了  2020-03-03      1\n",
       "5         这庄不错，给上车机会，明天还能涨！         这庄不错，给上车机会，明天还能涨！  2020-03-03      1"
      ]
     },
     "execution_count": 110,
     "metadata": {},
     "output_type": "execute_result"
    }
   ],
   "source": [
    "label = np.ones(len(kdxf_pos), dtype = np.int)\n",
    "kdxf_pos['label'] = label\n",
    "kdxf_pos.head()"
   ]
  },
  {
   "cell_type": "code",
   "execution_count": 114,
   "metadata": {},
   "outputs": [
    {
     "name": "stderr",
     "output_type": "stream",
     "text": [
      "/Users/cheriehe/anaconda3/lib/python3.7/site-packages/ipykernel_launcher.py:1: FutureWarning: The signature of `Series.to_csv` was aligned to that of `DataFrame.to_csv`, and argument 'header' will change its default value from False to True: please pass an explicit value to suppress this warning.\n",
      "  \"\"\"Entry point for launching an IPython kernel.\n"
     ]
    }
   ],
   "source": [
    "kdxf_pos['title'].to_csv('kdxf_pos.txt', index=False)"
   ]
  },
  {
   "cell_type": "code",
   "execution_count": 128,
   "metadata": {
    "scrolled": false
   },
   "outputs": [
    {
     "data": {
      "text/plain": [
       "0                    狗真多，一直不停的叫多，骗散户\n",
       "1                           明天跌停[大笑]\n",
       "2    真笑了，涨停板的时候有说二十个板的。估计明天跌停板！资金跑了！\n",
       "3                              明天窝里杀\n",
       "4                               成功洗出\n",
       "Name: title, dtype: object"
      ]
     },
     "execution_count": 128,
     "metadata": {},
     "output_type": "execute_result"
    }
   ],
   "source": [
    "neg = pd.concat([kdxf_neg['title'], weibo_neg['title']], axis=0,sort=False, ignore_index =True)\n",
    "neg.head()"
   ]
  },
  {
   "cell_type": "code",
   "execution_count": 129,
   "metadata": {},
   "outputs": [
    {
     "data": {
      "text/plain": [
       "162403"
      ]
     },
     "execution_count": 129,
     "metadata": {},
     "output_type": "execute_result"
    }
   ],
   "source": [
    "neg.count()"
   ]
  },
  {
   "cell_type": "code",
   "execution_count": 130,
   "metadata": {},
   "outputs": [
    {
     "name": "stderr",
     "output_type": "stream",
     "text": [
      "/Users/cheriehe/anaconda3/lib/python3.7/site-packages/ipykernel_launcher.py:1: FutureWarning: The signature of `Series.to_csv` was aligned to that of `DataFrame.to_csv`, and argument 'header' will change its default value from False to True: please pass an explicit value to suppress this warning.\n",
      "  \"\"\"Entry point for launching an IPython kernel.\n"
     ]
    }
   ],
   "source": [
    "neg.to_csv('neg.txt',index=False)"
   ]
  },
  {
   "cell_type": "code",
   "execution_count": 221,
   "metadata": {},
   "outputs": [],
   "source": [
    "kdxf = kdxf[['content', 'label']]"
   ]
  },
  {
   "cell_type": "code",
   "execution_count": 232,
   "metadata": {},
   "outputs": [],
   "source": [
    "kdxf.loc[608, 'label'] = 0"
   ]
  },
  {
   "cell_type": "code",
   "execution_count": 266,
   "metadata": {
    "scrolled": true
   },
   "outputs": [
    {
     "data": {
      "text/plain": [
       "content    156\n",
       "label      156\n",
       "dtype: int64"
      ]
     },
     "execution_count": 266,
     "metadata": {},
     "output_type": "execute_result"
    }
   ],
   "source": [
    "kdxf[kdxf['label']==0].count()"
   ]
  },
  {
   "cell_type": "code",
   "execution_count": 263,
   "metadata": {},
   "outputs": [
    {
     "data": {
      "text/plain": [
       "content    2014\n",
       "label      2014\n",
       "dtype: int64"
      ]
     },
     "execution_count": 263,
     "metadata": {},
     "output_type": "execute_result"
    }
   ],
   "source": [
    "com_neg.count()"
   ]
  },
  {
   "cell_type": "code",
   "execution_count": 270,
   "metadata": {},
   "outputs": [
    {
     "data": {
      "text/plain": [
       "content    3970\n",
       "label      3970\n",
       "dtype: int64"
      ]
     },
     "execution_count": 270,
     "metadata": {},
     "output_type": "execute_result"
    }
   ],
   "source": [
    "stock_comments =pd.concat([kdxf, com_pos, com_neg], axis=0,sort=True, ignore_index =True)\n",
    "stock_comments.count()"
   ]
  },
  {
   "cell_type": "code",
   "execution_count": 258,
   "metadata": {},
   "outputs": [
    {
     "data": {
      "text/html": [
       "<div>\n",
       "<style scoped>\n",
       "    .dataframe tbody tr th:only-of-type {\n",
       "        vertical-align: middle;\n",
       "    }\n",
       "\n",
       "    .dataframe tbody tr th {\n",
       "        vertical-align: top;\n",
       "    }\n",
       "\n",
       "    .dataframe thead th {\n",
       "        text-align: right;\n",
       "    }\n",
       "</style>\n",
       "<table border=\"1\" class=\"dataframe\">\n",
       "  <thead>\n",
       "    <tr style=\"text-align: right;\">\n",
       "      <th></th>\n",
       "      <th>content</th>\n",
       "      <th>label</th>\n",
       "    </tr>\n",
       "  </thead>\n",
       "  <tbody>\n",
       "    <tr>\n",
       "      <th>3965</th>\n",
       "      <td>超买</td>\n",
       "      <td>0</td>\n",
       "    </tr>\n",
       "    <tr>\n",
       "      <th>3966</th>\n",
       "      <td>关灯吃面</td>\n",
       "      <td>0</td>\n",
       "    </tr>\n",
       "    <tr>\n",
       "      <th>3967</th>\n",
       "      <td>割肉</td>\n",
       "      <td>0</td>\n",
       "    </tr>\n",
       "    <tr>\n",
       "      <th>3968</th>\n",
       "      <td>亏</td>\n",
       "      <td>0</td>\n",
       "    </tr>\n",
       "    <tr>\n",
       "      <th>3969</th>\n",
       "      <td>吃面</td>\n",
       "      <td>0</td>\n",
       "    </tr>\n",
       "  </tbody>\n",
       "</table>\n",
       "</div>"
      ],
      "text/plain": [
       "     content  label\n",
       "3965      超买      0\n",
       "3966    关灯吃面      0\n",
       "3967      割肉      0\n",
       "3968       亏      0\n",
       "3969      吃面      0"
      ]
     },
     "execution_count": 258,
     "metadata": {},
     "output_type": "execute_result"
    }
   ],
   "source": [
    "stock_comments.tail()"
   ]
  },
  {
   "cell_type": "code",
   "execution_count": 269,
   "metadata": {},
   "outputs": [],
   "source": [
    "stock_comments.to_csv('stock_comments.txt', sep = '\\t', index = False)"
   ]
  },
  {
   "cell_type": "code",
   "execution_count": 280,
   "metadata": {},
   "outputs": [
    {
     "data": {
      "text/html": [
       "<div>\n",
       "<style scoped>\n",
       "    .dataframe tbody tr th:only-of-type {\n",
       "        vertical-align: middle;\n",
       "    }\n",
       "\n",
       "    .dataframe tbody tr th {\n",
       "        vertical-align: top;\n",
       "    }\n",
       "\n",
       "    .dataframe thead th {\n",
       "        text-align: right;\n",
       "    }\n",
       "</style>\n",
       "<table border=\"1\" class=\"dataframe\">\n",
       "  <thead>\n",
       "    <tr style=\"text-align: right;\">\n",
       "      <th></th>\n",
       "      <th>id</th>\n",
       "      <th>user_id</th>\n",
       "      <th>title</th>\n",
       "      <th>text</th>\n",
       "      <th>retweet_count</th>\n",
       "      <th>reply_count</th>\n",
       "      <th>fav_count</th>\n",
       "      <th>type</th>\n",
       "      <th>user_friends_count</th>\n",
       "      <th>user_followers_count</th>\n",
       "      <th>user_status_count</th>\n",
       "      <th>user_province</th>\n",
       "      <th>timeBefore</th>\n",
       "    </tr>\n",
       "  </thead>\n",
       "  <tbody>\n",
       "    <tr>\n",
       "      <th>0</th>\n",
       "      <td>143187396</td>\n",
       "      <td>2143043140</td>\n",
       "      <td>NaN</td>\n",
       "      <td>$科大讯飞(SZ002230)$                              ...</td>\n",
       "      <td>0</td>\n",
       "      <td>0</td>\n",
       "      <td>0</td>\n",
       "      <td>2.0</td>\n",
       "      <td>118</td>\n",
       "      <td>4039</td>\n",
       "      <td>11051</td>\n",
       "      <td>省/直辖市</td>\n",
       "      <td>2020-03-07 13:36</td>\n",
       "    </tr>\n",
       "    <tr>\n",
       "      <th>1</th>\n",
       "      <td>143187165</td>\n",
       "      <td>2143043140</td>\n",
       "      <td>NaN</td>\n",
       "      <td>$科大讯飞(SZ002230)$ 科大讯飞，走向商业生态系统的核心之路 | 艾问顶级人物艾问...</td>\n",
       "      <td>0</td>\n",
       "      <td>0</td>\n",
       "      <td>1</td>\n",
       "      <td>2.0</td>\n",
       "      <td>118</td>\n",
       "      <td>4039</td>\n",
       "      <td>11051</td>\n",
       "      <td>省/直辖市</td>\n",
       "      <td>2020-03-07 13:30</td>\n",
       "    </tr>\n",
       "  </tbody>\n",
       "</table>\n",
       "</div>"
      ],
      "text/plain": [
       "          id     user_id title  \\\n",
       "0  143187396  2143043140   NaN   \n",
       "1  143187165  2143043140   NaN   \n",
       "\n",
       "                                                text  retweet_count  \\\n",
       "0  $科大讯飞(SZ002230)$                              ...              0   \n",
       "1  $科大讯飞(SZ002230)$ 科大讯飞，走向商业生态系统的核心之路 | 艾问顶级人物艾问...              0   \n",
       "\n",
       "   reply_count  fav_count  type  user_friends_count  user_followers_count  \\\n",
       "0            0          0   2.0                 118                  4039   \n",
       "1            0          1   2.0                 118                  4039   \n",
       "\n",
       "   user_status_count user_province        timeBefore  \n",
       "0              11051         省/直辖市  2020-03-07 13:36  \n",
       "1              11051         省/直辖市  2020-03-07 13:30  "
      ]
     },
     "execution_count": 280,
     "metadata": {},
     "output_type": "execute_result"
    }
   ],
   "source": [
    "xueqiu_kdxf = pd.read_csv('xueqiu_kdxfposts.csv')\n",
    "xueqiu_kdxf.head(2)"
   ]
  },
  {
   "cell_type": "code",
   "execution_count": 282,
   "metadata": {},
   "outputs": [],
   "source": [
    "xueqiu_kdxf = xueqiu_kdxf[['text', 'title']]"
   ]
  },
  {
   "cell_type": "code",
   "execution_count": 283,
   "metadata": {},
   "outputs": [
    {
     "data": {
      "text/html": [
       "<div>\n",
       "<style scoped>\n",
       "    .dataframe tbody tr th:only-of-type {\n",
       "        vertical-align: middle;\n",
       "    }\n",
       "\n",
       "    .dataframe tbody tr th {\n",
       "        vertical-align: top;\n",
       "    }\n",
       "\n",
       "    .dataframe thead th {\n",
       "        text-align: right;\n",
       "    }\n",
       "</style>\n",
       "<table border=\"1\" class=\"dataframe\">\n",
       "  <thead>\n",
       "    <tr style=\"text-align: right;\">\n",
       "      <th></th>\n",
       "      <th>text</th>\n",
       "    </tr>\n",
       "  </thead>\n",
       "  <tbody>\n",
       "    <tr>\n",
       "      <th>0</th>\n",
       "      <td>$科大讯飞(SZ002230)$                              ...</td>\n",
       "    </tr>\n",
       "    <tr>\n",
       "      <th>1</th>\n",
       "      <td>$科大讯飞(SZ002230)$ 科大讯飞，走向商业生态系统的核心之路 | 艾问顶级人物艾问...</td>\n",
       "    </tr>\n",
       "    <tr>\n",
       "      <th>2</th>\n",
       "      <td>$科大讯飞(SZ002230)$ 最新！智慧空中课堂入选《2020年上海市第一批创新产品推荐...</td>\n",
       "    </tr>\n",
       "    <tr>\n",
       "      <th>3</th>\n",
       "      <td>有机构提出的新基建7大金刚，看看中兴通讯，国电南瑞，中国中车，特锐德，光环新网，科大讯飞，用友网络</td>\n",
       "    </tr>\n",
       "    <tr>\n",
       "      <th>4</th>\n",
       "      <td>$科大讯飞(SZ002230)$$同花顺(SZ300033)$掐指一算，正式参与这个市场也5...</td>\n",
       "    </tr>\n",
       "  </tbody>\n",
       "</table>\n",
       "</div>"
      ],
      "text/plain": [
       "                                                text\n",
       "0  $科大讯飞(SZ002230)$                              ...\n",
       "1  $科大讯飞(SZ002230)$ 科大讯飞，走向商业生态系统的核心之路 | 艾问顶级人物艾问...\n",
       "2  $科大讯飞(SZ002230)$ 最新！智慧空中课堂入选《2020年上海市第一批创新产品推荐...\n",
       "3  有机构提出的新基建7大金刚，看看中兴通讯，国电南瑞，中国中车，特锐德，光环新网，科大讯飞，用友网络\n",
       "4  $科大讯飞(SZ002230)$$同花顺(SZ300033)$掐指一算，正式参与这个市场也5..."
      ]
     },
     "execution_count": 283,
     "metadata": {},
     "output_type": "execute_result"
    }
   ],
   "source": [
    "del xueqiu_kdxf['title']\n",
    "xueqiu_kdxf.head()"
   ]
  },
  {
   "cell_type": "code",
   "execution_count": 285,
   "metadata": {},
   "outputs": [],
   "source": [
    "xueqiu_kdxf.to_csv('xueqiu_kdxf.txt', index = False)"
   ]
  },
  {
   "cell_type": "code",
   "execution_count": 327,
   "metadata": {},
   "outputs": [
    {
     "data": {
      "text/html": [
       "<div>\n",
       "<style scoped>\n",
       "    .dataframe tbody tr th:only-of-type {\n",
       "        vertical-align: middle;\n",
       "    }\n",
       "\n",
       "    .dataframe tbody tr th {\n",
       "        vertical-align: top;\n",
       "    }\n",
       "\n",
       "    .dataframe thead th {\n",
       "        text-align: right;\n",
       "    }\n",
       "</style>\n",
       "<table border=\"1\" class=\"dataframe\">\n",
       "  <thead>\n",
       "    <tr style=\"text-align: right;\">\n",
       "      <th></th>\n",
       "      <th>微博id</th>\n",
       "      <th>发布者</th>\n",
       "      <th>content</th>\n",
       "      <th>label</th>\n",
       "    </tr>\n",
       "  </thead>\n",
       "  <tbody>\n",
       "    <tr>\n",
       "      <th>0</th>\n",
       "      <td>GAmVExuCP</td>\n",
       "      <td>新浪科技</td>\n",
       "      <td>新浪科技:#创事记# 【讯飞AI同传被指造假：译员亲自揭发 用人类翻译冒充AI】2018年9...</td>\n",
       "      <td>1.0</td>\n",
       "    </tr>\n",
       "    <tr>\n",
       "      <th>1</th>\n",
       "      <td>HwRhBwmVJ</td>\n",
       "      <td>南宫小妹</td>\n",
       "      <td>南宫小妹:探访2019数博会：5G商用何时落地？每年的中国国际大数据产业博览会（以下简称“数...</td>\n",
       "      <td>1.0</td>\n",
       "    </tr>\n",
       "    <tr>\n",
       "      <th>2</th>\n",
       "      <td>HwLvzA8Ir</td>\n",
       "      <td>21世纪经济报道</td>\n",
       "      <td>21世纪经济报道:【柳传志梁稳根张文中等22位企业家挨个发言，谈的是这个话题】“在当前国际经...</td>\n",
       "      <td>1.0</td>\n",
       "    </tr>\n",
       "    <tr>\n",
       "      <th>3</th>\n",
       "      <td>HwKmt950y</td>\n",
       "      <td>忍者大诚</td>\n",
       "      <td>忍者大诚:中国人骨子里是自卑的，奴性的。中国的某些企业比如瑞幸咖啡，阿里巴巴，腾讯，科大讯飞...</td>\n",
       "      <td>1.0</td>\n",
       "    </tr>\n",
       "    <tr>\n",
       "      <th>4</th>\n",
       "      <td>HwHPhfAnJ</td>\n",
       "      <td>经济观察报</td>\n",
       "      <td>经济观察报:【中国电信将在今年内采购3000万台终端 进军千亿级智慧家庭市场】5月30日，为...</td>\n",
       "      <td>1.0</td>\n",
       "    </tr>\n",
       "  </tbody>\n",
       "</table>\n",
       "</div>"
      ],
      "text/plain": [
       "        微博id       发布者                                            content  \\\n",
       "0  GAmVExuCP      新浪科技  新浪科技:#创事记# 【讯飞AI同传被指造假：译员亲自揭发 用人类翻译冒充AI】2018年9...   \n",
       "1  HwRhBwmVJ      南宫小妹  南宫小妹:探访2019数博会：5G商用何时落地？每年的中国国际大数据产业博览会（以下简称“数...   \n",
       "2  HwLvzA8Ir  21世纪经济报道  21世纪经济报道:【柳传志梁稳根张文中等22位企业家挨个发言，谈的是这个话题】“在当前国际经...   \n",
       "3  HwKmt950y      忍者大诚  忍者大诚:中国人骨子里是自卑的，奴性的。中国的某些企业比如瑞幸咖啡，阿里巴巴，腾讯，科大讯飞...   \n",
       "4  HwHPhfAnJ     经济观察报  经济观察报:【中国电信将在今年内采购3000万台终端 进军千亿级智慧家庭市场】5月30日，为...   \n",
       "\n",
       "   label  \n",
       "0    1.0  \n",
       "1    1.0  \n",
       "2    1.0  \n",
       "3    1.0  \n",
       "4    1.0  "
      ]
     },
     "execution_count": 327,
     "metadata": {},
     "output_type": "execute_result"
    }
   ],
   "source": [
    "test = pd.read_csv(path + 'kdxf_test.csv')\n",
    "test.head()"
   ]
  },
  {
   "cell_type": "code",
   "execution_count": 328,
   "metadata": {},
   "outputs": [],
   "source": [
    "test = test[['content', 'label']]"
   ]
  },
  {
   "cell_type": "code",
   "execution_count": 344,
   "metadata": {},
   "outputs": [],
   "source": [
    "test_neg = test[test['label']== 0.0]"
   ]
  },
  {
   "cell_type": "code",
   "execution_count": 345,
   "metadata": {},
   "outputs": [
    {
     "data": {
      "text/plain": [
       "content    87\n",
       "label      87\n",
       "dtype: int64"
      ]
     },
     "execution_count": 345,
     "metadata": {},
     "output_type": "execute_result"
    }
   ],
   "source": [
    "test_neg.head()\n",
    "test_neg.count()"
   ]
  },
  {
   "cell_type": "code",
   "execution_count": 346,
   "metadata": {
    "scrolled": true
   },
   "outputs": [
    {
     "name": "stderr",
     "output_type": "stream",
     "text": [
      "/Users/cheriehe/anaconda3/lib/python3.7/site-packages/ipykernel_launcher.py:2: SettingWithCopyWarning: \n",
      "A value is trying to be set on a copy of a slice from a DataFrame.\n",
      "Try using .loc[row_indexer,col_indexer] = value instead\n",
      "\n",
      "See the caveats in the documentation: http://pandas.pydata.org/pandas-docs/stable/indexing.html#indexing-view-versus-copy\n",
      "  \n"
     ]
    },
    {
     "data": {
      "text/html": [
       "<div>\n",
       "<style scoped>\n",
       "    .dataframe tbody tr th:only-of-type {\n",
       "        vertical-align: middle;\n",
       "    }\n",
       "\n",
       "    .dataframe tbody tr th {\n",
       "        vertical-align: top;\n",
       "    }\n",
       "\n",
       "    .dataframe thead th {\n",
       "        text-align: right;\n",
       "    }\n",
       "</style>\n",
       "<table border=\"1\" class=\"dataframe\">\n",
       "  <thead>\n",
       "    <tr style=\"text-align: right;\">\n",
       "      <th></th>\n",
       "      <th>content</th>\n",
       "      <th>label</th>\n",
       "    </tr>\n",
       "  </thead>\n",
       "  <tbody>\n",
       "    <tr>\n",
       "      <th>450</th>\n",
       "      <td>未来网编程频道:【科大讯飞五年获补6.5亿  应收账款逐年增长高达26亿】在世界人工智能大会...</td>\n",
       "      <td>0</td>\n",
       "    </tr>\n",
       "    <tr>\n",
       "      <th>42</th>\n",
       "      <td>股海擒牛188:沪深两市今日冲高回落，沪指受压20日线，今日早盘在权重股带下一路走高，但午后...</td>\n",
       "      <td>0</td>\n",
       "    </tr>\n",
       "    <tr>\n",
       "      <th>70</th>\n",
       "      <td>AHSTZL:布局三年 科大讯飞的消费者业务仍面临挑战科大讯飞将自身定位为技术创新企业，而并...</td>\n",
       "      <td>0</td>\n",
       "    </tr>\n",
       "    <tr>\n",
       "      <th>451</th>\n",
       "      <td>老-板说的对:【科大讯飞发布前三季度财报   曾经千亿市值现已跌去大半】10月23日，科大讯...</td>\n",
       "      <td>0</td>\n",
       "    </tr>\n",
       "  </tbody>\n",
       "</table>\n",
       "</div>"
      ],
      "text/plain": [
       "                                               content  label\n",
       "450  未来网编程频道:【科大讯飞五年获补6.5亿  应收账款逐年增长高达26亿】在世界人工智能大会...      0\n",
       "42   股海擒牛188:沪深两市今日冲高回落，沪指受压20日线，今日早盘在权重股带下一路走高，但午后...      0\n",
       "70   AHSTZL:布局三年 科大讯飞的消费者业务仍面临挑战科大讯飞将自身定位为技术创新企业，而并...      0\n",
       "451  老-板说的对:【科大讯飞发布前三季度财报   曾经千亿市值现已跌去大半】10月23日，科大讯...      0"
      ]
     },
     "execution_count": 346,
     "metadata": {},
     "output_type": "execute_result"
    }
   ],
   "source": [
    "label = np.zeros(len(test_neg), dtype = np.int)\n",
    "test_neg['label'] = label\n",
    "test_neg.sample(4)"
   ]
  },
  {
   "cell_type": "code",
   "execution_count": 347,
   "metadata": {},
   "outputs": [
    {
     "data": {
      "text/html": [
       "<div>\n",
       "<style scoped>\n",
       "    .dataframe tbody tr th:only-of-type {\n",
       "        vertical-align: middle;\n",
       "    }\n",
       "\n",
       "    .dataframe tbody tr th {\n",
       "        vertical-align: top;\n",
       "    }\n",
       "\n",
       "    .dataframe thead th {\n",
       "        text-align: right;\n",
       "    }\n",
       "</style>\n",
       "<table border=\"1\" class=\"dataframe\">\n",
       "  <thead>\n",
       "    <tr style=\"text-align: right;\">\n",
       "      <th></th>\n",
       "      <th>content</th>\n",
       "      <th>label</th>\n",
       "    </tr>\n",
       "  </thead>\n",
       "  <tbody>\n",
       "    <tr>\n",
       "      <th>91</th>\n",
       "      <td>子嫄评测:【刘庆峰：公司投资的寒武纪等企业正积极探讨登陆科创板可能性】据证券时报报道，在6日...</td>\n",
       "      <td>1</td>\n",
       "    </tr>\n",
       "    <tr>\n",
       "      <th>27</th>\n",
       "      <td>母婴圈动态:峰会10周年，携手讯飞，打造一场母婴童产业视听盛宴，回顾母婴童产业高速发展10年...</td>\n",
       "      <td>1</td>\n",
       "    </tr>\n",
       "    <tr>\n",
       "      <th>276</th>\n",
       "      <td>城墙边之白杨:$科大讯飞 sz002230$ 这里上一下还会再下来</td>\n",
       "      <td>0</td>\n",
       "    </tr>\n",
       "    <tr>\n",
       "      <th>203</th>\n",
       "      <td>醒悟之然:问耕 发自 凹非寺量子位 出品 | 公众号 QbitAI尽管标题很长，但是还没写全...</td>\n",
       "      <td>1</td>\n",
       "    </tr>\n",
       "    <tr>\n",
       "      <th>241</th>\n",
       "      <td>jackh51:昨天复盘时，对创业板当前加速上攻有些担忧，因此写到“题材股差不多也都轮炒了一...</td>\n",
       "      <td>0</td>\n",
       "    </tr>\n",
       "  </tbody>\n",
       "</table>\n",
       "</div>"
      ],
      "text/plain": [
       "                                               content  label\n",
       "91   子嫄评测:【刘庆峰：公司投资的寒武纪等企业正积极探讨登陆科创板可能性】据证券时报报道，在6日...      1\n",
       "27   母婴圈动态:峰会10周年，携手讯飞，打造一场母婴童产业视听盛宴，回顾母婴童产业高速发展10年...      1\n",
       "276                城墙边之白杨:$科大讯飞 sz002230$ 这里上一下还会再下来        0\n",
       "203  醒悟之然:问耕 发自 凹非寺量子位 出品 | 公众号 QbitAI尽管标题很长，但是还没写全...      1\n",
       "241  jackh51:昨天复盘时，对创业板当前加速上攻有些担忧，因此写到“题材股差不多也都轮炒了一...      0"
      ]
     },
     "execution_count": 347,
     "metadata": {},
     "output_type": "execute_result"
    }
   ],
   "source": [
    "test = pd.concat([test_pos, test_neg], axis=0,ignore_index =True,sort=False)\n",
    "test.sample(5)"
   ]
  },
  {
   "cell_type": "code",
   "execution_count": 348,
   "metadata": {},
   "outputs": [],
   "source": [
    "test.to_csv('test.txt', sep = '\\t', index = False)"
   ]
  },
  {
   "cell_type": "code",
   "execution_count": null,
   "metadata": {},
   "outputs": [],
   "source": []
  },
  {
   "cell_type": "code",
   "execution_count": null,
   "metadata": {},
   "outputs": [],
   "source": []
  },
  {
   "cell_type": "code",
   "execution_count": null,
   "metadata": {},
   "outputs": [],
   "source": []
  },
  {
   "cell_type": "code",
   "execution_count": null,
   "metadata": {},
   "outputs": [],
   "source": []
  },
  {
   "cell_type": "code",
   "execution_count": null,
   "metadata": {},
   "outputs": [],
   "source": []
  },
  {
   "cell_type": "code",
   "execution_count": null,
   "metadata": {},
   "outputs": [],
   "source": []
  },
  {
   "cell_type": "code",
   "execution_count": null,
   "metadata": {},
   "outputs": [],
   "source": []
  },
  {
   "cell_type": "code",
   "execution_count": null,
   "metadata": {},
   "outputs": [],
   "source": []
  },
  {
   "cell_type": "code",
   "execution_count": null,
   "metadata": {},
   "outputs": [],
   "source": []
  },
  {
   "cell_type": "code",
   "execution_count": null,
   "metadata": {},
   "outputs": [],
   "source": []
  },
  {
   "cell_type": "code",
   "execution_count": null,
   "metadata": {},
   "outputs": [],
   "source": []
  }
 ],
 "metadata": {
  "kernelspec": {
   "display_name": "Python 3",
   "language": "python",
   "name": "python3"
  },
  "language_info": {
   "codemirror_mode": {
    "name": "ipython",
    "version": 3
   },
   "file_extension": ".py",
   "mimetype": "text/x-python",
   "name": "python",
   "nbconvert_exporter": "python",
   "pygments_lexer": "ipython3",
   "version": "3.7.3"
  }
 },
 "nbformat": 4,
 "nbformat_minor": 2
}
